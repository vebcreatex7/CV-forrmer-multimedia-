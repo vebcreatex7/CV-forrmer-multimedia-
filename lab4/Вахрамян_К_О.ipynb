{
  "nbformat": 4,
  "nbformat_minor": 5,
  "metadata": {
    "kernelspec": {
      "name": "python3",
      "display_name": "Python 3.8.10 64-bit"
    },
    "language_info": {
      "codemirror_mode": {
        "name": "ipython",
        "version": 3
      },
      "file_extension": ".py",
      "mimetype": "text/x-python",
      "name": "python",
      "nbconvert_exporter": "python",
      "pygments_lexer": "ipython3",
      "version": "3.8.10"
    },
    "interpreter": {
      "hash": "31f2aee4e71d21fbe5cf8b01ff0e069b9275f58929596ceb00d14d90e3e16cd6"
    },
    "colab": {
      "name": "Вахрамян К.О.ipynb",
      "provenance": [],
      "collapsed_sections": []
    }
  },
  "cells": [
    {
      "cell_type": "code",
      "metadata": {
        "id": "YKJ83pr8XsJ6"
      },
      "source": [
        "import numpy as np\n",
        "import pandas as pd\n",
        "import matplotlib as plt\n",
        "import seaborn as sns\n",
        "from sklearn.model_selection import train_test_split\n",
        "from sklearn.preprocessing import StandardScaler, MinMaxScaler\n",
        "import matplotlib.pyplot as plt"
      ],
      "id": "YKJ83pr8XsJ6",
      "execution_count": 103,
      "outputs": []
    },
    {
      "cell_type": "code",
      "metadata": {
        "id": "5FNf05emXsJ-"
      },
      "source": [
        "# 1. Выбрать задачу (классификация или регрессия), датасет (пересечений не должно быть - у каждого студента свой датасет) и метрику качества"
      ],
      "id": "5FNf05emXsJ-",
      "execution_count": 104,
      "outputs": []
    },
    {
      "cell_type": "markdown",
      "metadata": {
        "id": "_l4FnziuXsJ_"
      },
      "source": [
        "Будем решать задачу регрессии. Необходимо предсказать цену на подержанный автомобиль марки Mercedes в Великобритании.\\\n",
        "В качестве метрики используем R2."
      ],
      "id": "_l4FnziuXsJ_"
    },
    {
      "cell_type": "code",
      "metadata": {
        "colab": {
          "base_uri": "https://localhost:8080/",
          "height": 221
        },
        "id": "mXRQyKvwXsKA",
        "outputId": "17d866b2-02ab-4026-8798-55a4be186e06"
      },
      "source": [
        "df = pd.read_csv('merc.csv')\n",
        "print(df.shape)\n",
        "df.head()"
      ],
      "id": "mXRQyKvwXsKA",
      "execution_count": 105,
      "outputs": [
        {
          "output_type": "stream",
          "name": "stdout",
          "text": [
            "(13119, 9)\n"
          ]
        },
        {
          "output_type": "execute_result",
          "data": {
            "text/html": [
              "<div>\n",
              "<style scoped>\n",
              "    .dataframe tbody tr th:only-of-type {\n",
              "        vertical-align: middle;\n",
              "    }\n",
              "\n",
              "    .dataframe tbody tr th {\n",
              "        vertical-align: top;\n",
              "    }\n",
              "\n",
              "    .dataframe thead th {\n",
              "        text-align: right;\n",
              "    }\n",
              "</style>\n",
              "<table border=\"1\" class=\"dataframe\">\n",
              "  <thead>\n",
              "    <tr style=\"text-align: right;\">\n",
              "      <th></th>\n",
              "      <th>model</th>\n",
              "      <th>year</th>\n",
              "      <th>price</th>\n",
              "      <th>transmission</th>\n",
              "      <th>mileage</th>\n",
              "      <th>fuelType</th>\n",
              "      <th>tax</th>\n",
              "      <th>mpg</th>\n",
              "      <th>engineSize</th>\n",
              "    </tr>\n",
              "  </thead>\n",
              "  <tbody>\n",
              "    <tr>\n",
              "      <th>0</th>\n",
              "      <td>SLK</td>\n",
              "      <td>2005</td>\n",
              "      <td>5200</td>\n",
              "      <td>Automatic</td>\n",
              "      <td>63000</td>\n",
              "      <td>Petrol</td>\n",
              "      <td>325</td>\n",
              "      <td>32.1</td>\n",
              "      <td>1.8</td>\n",
              "    </tr>\n",
              "    <tr>\n",
              "      <th>1</th>\n",
              "      <td>S Class</td>\n",
              "      <td>2017</td>\n",
              "      <td>34948</td>\n",
              "      <td>Automatic</td>\n",
              "      <td>27000</td>\n",
              "      <td>Hybrid</td>\n",
              "      <td>20</td>\n",
              "      <td>61.4</td>\n",
              "      <td>2.1</td>\n",
              "    </tr>\n",
              "    <tr>\n",
              "      <th>2</th>\n",
              "      <td>SL CLASS</td>\n",
              "      <td>2016</td>\n",
              "      <td>49948</td>\n",
              "      <td>Automatic</td>\n",
              "      <td>6200</td>\n",
              "      <td>Petrol</td>\n",
              "      <td>555</td>\n",
              "      <td>28.0</td>\n",
              "      <td>5.5</td>\n",
              "    </tr>\n",
              "    <tr>\n",
              "      <th>3</th>\n",
              "      <td>G Class</td>\n",
              "      <td>2016</td>\n",
              "      <td>61948</td>\n",
              "      <td>Automatic</td>\n",
              "      <td>16000</td>\n",
              "      <td>Petrol</td>\n",
              "      <td>325</td>\n",
              "      <td>30.4</td>\n",
              "      <td>4.0</td>\n",
              "    </tr>\n",
              "    <tr>\n",
              "      <th>4</th>\n",
              "      <td>G Class</td>\n",
              "      <td>2016</td>\n",
              "      <td>73948</td>\n",
              "      <td>Automatic</td>\n",
              "      <td>4000</td>\n",
              "      <td>Petrol</td>\n",
              "      <td>325</td>\n",
              "      <td>30.1</td>\n",
              "      <td>4.0</td>\n",
              "    </tr>\n",
              "  </tbody>\n",
              "</table>\n",
              "</div>"
            ],
            "text/plain": [
              "       model  year  price transmission  mileage fuelType  tax   mpg  engineSize\n",
              "0        SLK  2005   5200    Automatic    63000   Petrol  325  32.1         1.8\n",
              "1    S Class  2017  34948    Automatic    27000   Hybrid   20  61.4         2.1\n",
              "2   SL CLASS  2016  49948    Automatic     6200   Petrol  555  28.0         5.5\n",
              "3    G Class  2016  61948    Automatic    16000   Petrol  325  30.4         4.0\n",
              "4    G Class  2016  73948    Automatic     4000   Petrol  325  30.1         4.0"
            ]
          },
          "metadata": {},
          "execution_count": 105
        }
      ]
    },
    {
      "cell_type": "markdown",
      "metadata": {
        "id": "LOFlKt3zXsKB"
      },
      "source": [
        "Проверим датасет на наличие пропусков."
      ],
      "id": "LOFlKt3zXsKB"
    },
    {
      "cell_type": "code",
      "metadata": {
        "colab": {
          "base_uri": "https://localhost:8080/"
        },
        "id": "c00VWwFHXsKC",
        "outputId": "d442be20-ba87-4c6c-ff27-ecbbec5ebf2c"
      },
      "source": [
        "df.isna().sum()"
      ],
      "id": "c00VWwFHXsKC",
      "execution_count": 106,
      "outputs": [
        {
          "output_type": "execute_result",
          "data": {
            "text/plain": [
              "model           0\n",
              "year            0\n",
              "price           0\n",
              "transmission    0\n",
              "mileage         0\n",
              "fuelType        0\n",
              "tax             0\n",
              "mpg             0\n",
              "engineSize      0\n",
              "dtype: int64"
            ]
          },
          "metadata": {},
          "execution_count": 106
        }
      ]
    },
    {
      "cell_type": "code",
      "metadata": {
        "id": "lmLh3XAiXsKC"
      },
      "source": [
        "# 2*. Посчитать различные статистики, визуализировать данные и сделать первичные выводы \\\\ разрешается использование любых пакетов"
      ],
      "id": "lmLh3XAiXsKC",
      "execution_count": 107,
      "outputs": []
    },
    {
      "cell_type": "code",
      "metadata": {
        "colab": {
          "base_uri": "https://localhost:8080/",
          "height": 297
        },
        "id": "YwBUwnpPXsKD",
        "outputId": "64a2f92a-6d63-4817-92b9-863e20b21722"
      },
      "source": [
        "df.describe()"
      ],
      "id": "YwBUwnpPXsKD",
      "execution_count": 108,
      "outputs": [
        {
          "output_type": "execute_result",
          "data": {
            "text/html": [
              "<div>\n",
              "<style scoped>\n",
              "    .dataframe tbody tr th:only-of-type {\n",
              "        vertical-align: middle;\n",
              "    }\n",
              "\n",
              "    .dataframe tbody tr th {\n",
              "        vertical-align: top;\n",
              "    }\n",
              "\n",
              "    .dataframe thead th {\n",
              "        text-align: right;\n",
              "    }\n",
              "</style>\n",
              "<table border=\"1\" class=\"dataframe\">\n",
              "  <thead>\n",
              "    <tr style=\"text-align: right;\">\n",
              "      <th></th>\n",
              "      <th>year</th>\n",
              "      <th>price</th>\n",
              "      <th>mileage</th>\n",
              "      <th>tax</th>\n",
              "      <th>mpg</th>\n",
              "      <th>engineSize</th>\n",
              "    </tr>\n",
              "  </thead>\n",
              "  <tbody>\n",
              "    <tr>\n",
              "      <th>count</th>\n",
              "      <td>13119.000000</td>\n",
              "      <td>13119.000000</td>\n",
              "      <td>13119.000000</td>\n",
              "      <td>13119.000000</td>\n",
              "      <td>13119.000000</td>\n",
              "      <td>13119.000000</td>\n",
              "    </tr>\n",
              "    <tr>\n",
              "      <th>mean</th>\n",
              "      <td>2017.296288</td>\n",
              "      <td>24698.596920</td>\n",
              "      <td>21949.559037</td>\n",
              "      <td>129.972178</td>\n",
              "      <td>55.155843</td>\n",
              "      <td>2.071530</td>\n",
              "    </tr>\n",
              "    <tr>\n",
              "      <th>std</th>\n",
              "      <td>2.224709</td>\n",
              "      <td>11842.675542</td>\n",
              "      <td>21176.512267</td>\n",
              "      <td>65.260286</td>\n",
              "      <td>15.220082</td>\n",
              "      <td>0.572426</td>\n",
              "    </tr>\n",
              "    <tr>\n",
              "      <th>min</th>\n",
              "      <td>1970.000000</td>\n",
              "      <td>650.000000</td>\n",
              "      <td>1.000000</td>\n",
              "      <td>0.000000</td>\n",
              "      <td>1.100000</td>\n",
              "      <td>0.000000</td>\n",
              "    </tr>\n",
              "    <tr>\n",
              "      <th>25%</th>\n",
              "      <td>2016.000000</td>\n",
              "      <td>17450.000000</td>\n",
              "      <td>6097.500000</td>\n",
              "      <td>125.000000</td>\n",
              "      <td>45.600000</td>\n",
              "      <td>1.800000</td>\n",
              "    </tr>\n",
              "    <tr>\n",
              "      <th>50%</th>\n",
              "      <td>2018.000000</td>\n",
              "      <td>22480.000000</td>\n",
              "      <td>15189.000000</td>\n",
              "      <td>145.000000</td>\n",
              "      <td>56.500000</td>\n",
              "      <td>2.000000</td>\n",
              "    </tr>\n",
              "    <tr>\n",
              "      <th>75%</th>\n",
              "      <td>2019.000000</td>\n",
              "      <td>28980.000000</td>\n",
              "      <td>31779.500000</td>\n",
              "      <td>145.000000</td>\n",
              "      <td>64.200000</td>\n",
              "      <td>2.100000</td>\n",
              "    </tr>\n",
              "    <tr>\n",
              "      <th>max</th>\n",
              "      <td>2020.000000</td>\n",
              "      <td>159999.000000</td>\n",
              "      <td>259000.000000</td>\n",
              "      <td>580.000000</td>\n",
              "      <td>217.300000</td>\n",
              "      <td>6.200000</td>\n",
              "    </tr>\n",
              "  </tbody>\n",
              "</table>\n",
              "</div>"
            ],
            "text/plain": [
              "               year          price  ...           mpg    engineSize\n",
              "count  13119.000000   13119.000000  ...  13119.000000  13119.000000\n",
              "mean    2017.296288   24698.596920  ...     55.155843      2.071530\n",
              "std        2.224709   11842.675542  ...     15.220082      0.572426\n",
              "min     1970.000000     650.000000  ...      1.100000      0.000000\n",
              "25%     2016.000000   17450.000000  ...     45.600000      1.800000\n",
              "50%     2018.000000   22480.000000  ...     56.500000      2.000000\n",
              "75%     2019.000000   28980.000000  ...     64.200000      2.100000\n",
              "max     2020.000000  159999.000000  ...    217.300000      6.200000\n",
              "\n",
              "[8 rows x 6 columns]"
            ]
          },
          "metadata": {},
          "execution_count": 108
        }
      ]
    },
    {
      "cell_type": "code",
      "metadata": {
        "colab": {
          "base_uri": "https://localhost:8080/",
          "height": 356
        },
        "id": "FcQdFTsHXsKD",
        "outputId": "5884d7e2-420f-4743-9134-039970c183c7"
      },
      "source": [
        "sns.set(rc={'figure.figsize':(6,4)})\n",
        "sns.countplot(df['fuelType'])"
      ],
      "id": "FcQdFTsHXsKD",
      "execution_count": 109,
      "outputs": [
        {
          "output_type": "stream",
          "name": "stderr",
          "text": [
            "/usr/local/lib/python3.7/dist-packages/seaborn/_decorators.py:43: FutureWarning: Pass the following variable as a keyword arg: x. From version 0.12, the only valid positional argument will be `data`, and passing other arguments without an explicit keyword will result in an error or misinterpretation.\n",
            "  FutureWarning\n"
          ]
        },
        {
          "output_type": "execute_result",
          "data": {
            "text/plain": [
              "<matplotlib.axes._subplots.AxesSubplot at 0x7f9bf9ac1ad0>"
            ]
          },
          "metadata": {},
          "execution_count": 109
        },
        {
          "output_type": "display_data",
          "data": {
            "image/png": "[encoded data removed]",
            "text/plain": [
              "<Figure size 432x288 with 1 Axes>"
            ]
          },
          "metadata": {}
        }
      ]
    },
    {
      "cell_type": "code",
      "metadata": {
        "colab": {
          "base_uri": "https://localhost:8080/",
          "height": 356
        },
        "id": "H611QdI7XsKE",
        "outputId": "db6abed4-304f-4e4d-a9a0-46dbbf2cc469"
      },
      "source": [
        "sns.set(rc={'figure.figsize':(6,4)})\n",
        "sns.countplot(df['transmission'])"
      ],
      "id": "H611QdI7XsKE",
      "execution_count": 110,
      "outputs": [
        {
          "output_type": "stream",
          "name": "stderr",
          "text": [
            "/usr/local/lib/python3.7/dist-packages/seaborn/_decorators.py:43: FutureWarning: Pass the following variable as a keyword arg: x. From version 0.12, the only valid positional argument will be `data`, and passing other arguments without an explicit keyword will result in an error or misinterpretation.\n",
            "  FutureWarning\n"
          ]
        },
        {
          "output_type": "execute_result",
          "data": {
            "text/plain": [
              "<matplotlib.axes._subplots.AxesSubplot at 0x7f9bf9a1f110>"
            ]
          },
          "metadata": {},
          "execution_count": 110
        },
        {
          "output_type": "display_data",
          "data": {
            "image/png": "[encoded data removed]",
            "text/plain": [
              "<Figure size 432x288 with 1 Axes>"
            ]
          },
          "metadata": {}
        }
      ]
    },
    {
      "cell_type": "markdown",
      "metadata": {
        "id": "iXkwPJ8vXsKE"
      },
      "source": [
        "Большинство машин с автоматической и полуавтоматической КПП."
      ],
      "id": "iXkwPJ8vXsKE"
    },
    {
      "cell_type": "code",
      "metadata": {
        "colab": {
          "base_uri": "https://localhost:8080/"
        },
        "id": "jH95CI4ZXsKF",
        "outputId": "f928a581-668e-4b81-f1c3-de6fa9991a39"
      },
      "source": [
        "df['transmission'].value_counts()"
      ],
      "id": "jH95CI4ZXsKF",
      "execution_count": 111,
      "outputs": [
        {
          "output_type": "execute_result",
          "data": {
            "text/plain": [
              "Semi-Auto    6848\n",
              "Automatic    4825\n",
              "Manual       1444\n",
              "Other           2\n",
              "Name: transmission, dtype: int64"
            ]
          },
          "metadata": {},
          "execution_count": 111
        }
      ]
    },
    {
      "cell_type": "markdown",
      "metadata": {
        "id": "tPKiAPD7XsKF"
      },
      "source": [
        "Постмотрим на распределение моделий автоболией."
      ],
      "id": "tPKiAPD7XsKF"
    },
    {
      "cell_type": "code",
      "metadata": {
        "colab": {
          "base_uri": "https://localhost:8080/",
          "height": 1000
        },
        "id": "Q2oP9N-6XsKF",
        "outputId": "09a89b6e-0493-4c24-a985-0838c9d18e82"
      },
      "source": [
        "print(df['model'].value_counts() / df.shape[0])\n",
        "sns.set(rc={'figure.figsize':(10,10)})\n",
        "sns.countplot(y = df['model'])"
      ],
      "id": "Q2oP9N-6XsKF",
      "execution_count": 112,
      "outputs": [
        {
          "output_type": "stream",
          "name": "stdout",
          "text": [
            " C Class      0.285616\n",
            " A Class      0.195213\n",
            " E Class      0.148868\n",
            " GLC Class    0.073176\n",
            " GLA Class    0.064563\n",
            " B Class      0.045049\n",
            " CL Class     0.038951\n",
            " GLE Class    0.035140\n",
            " SL CLASS     0.019819\n",
            " CLS Class    0.018065\n",
            " V Class      0.015779\n",
            " S Class      0.015016\n",
            " GL Class     0.009223\n",
            " SLK          0.007241\n",
            " CLA Class    0.006555\n",
            " X-CLASS      0.006250\n",
            " M Class      0.006022\n",
            " GLS Class    0.005641\n",
            " GLB Class    0.001448\n",
            " G Class      0.001143\n",
            " CLK          0.000534\n",
            " CLC Class    0.000229\n",
            " R Class      0.000152\n",
            "200           0.000076\n",
            "230           0.000076\n",
            "180           0.000076\n",
            "220           0.000076\n",
            "Name: model, dtype: float64\n"
          ]
        },
        {
          "output_type": "execute_result",
          "data": {
            "text/plain": [
              "<matplotlib.axes._subplots.AxesSubplot at 0x7f9bf9994390>"
            ]
          },
          "metadata": {},
          "execution_count": 112
        },
        {
          "output_type": "display_data",
          "data": {
            "image/png": "[encoded data removed]",
            "text/plain": [
              "<Figure size 720x720 with 1 Axes>"
            ]
          },
          "metadata": {}
        }
      ]
    },
    {
      "cell_type": "markdown",
      "metadata": {
        "id": "rizQ1J_LXsKG"
      },
      "source": [
        "Самые популярные - C,A,E Class."
      ],
      "id": "rizQ1J_LXsKG"
    },
    {
      "cell_type": "markdown",
      "metadata": {
        "id": "Yi8m_qaDXsKG"
      },
      "source": [
        "Также визуализируем распределение года выпуска автомобилей."
      ],
      "id": "Yi8m_qaDXsKG"
    },
    {
      "cell_type": "code",
      "metadata": {
        "colab": {
          "base_uri": "https://localhost:8080/",
          "height": 628
        },
        "id": "1-EcMYd4XsKG",
        "outputId": "924b9240-0316-4b86-970d-5373a4e1ced3"
      },
      "source": [
        "sns.set(rc={'figure.figsize':(10,10)})\n",
        "sns.countplot(y = df['year'])"
      ],
      "id": "1-EcMYd4XsKG",
      "execution_count": 113,
      "outputs": [
        {
          "output_type": "execute_result",
          "data": {
            "text/plain": [
              "<matplotlib.axes._subplots.AxesSubplot at 0x7f9bf9994090>"
            ]
          },
          "metadata": {},
          "execution_count": 113
        },
        {
          "output_type": "display_data",
          "data": {
            "image/png": "[encoded data removed]",
            "text/plain": [
              "<Figure size 720x720 with 1 Axes>"
            ]
          },
          "metadata": {}
        }
      ]
    },
    {
      "cell_type": "markdown",
      "metadata": {
        "id": "xYY29SRnXsKG"
      },
      "source": [
        "Посмотрим на зависимость цены автомобиля от года выпуска."
      ],
      "id": "xYY29SRnXsKG"
    },
    {
      "cell_type": "code",
      "metadata": {
        "colab": {
          "base_uri": "https://localhost:8080/",
          "height": 519
        },
        "id": "clgW9sC2XsKH",
        "outputId": "c1fc8bce-d060-47bf-d4f3-8d8e5ea7cfcc"
      },
      "source": [
        "\n",
        "sns.set(rc={'figure.figsize':(16,8)})\n",
        "sns.barplot(x=df['year'], y=df['price'])"
      ],
      "id": "clgW9sC2XsKH",
      "execution_count": 114,
      "outputs": [
        {
          "output_type": "execute_result",
          "data": {
            "text/plain": [
              "<matplotlib.axes._subplots.AxesSubplot at 0x7f9bf97d3190>"
            ]
          },
          "metadata": {},
          "execution_count": 114
        },
        {
          "output_type": "display_data",
          "data": {
            "image/png": "[encoded data removed]",
            "text/plain": [
              "<Figure size 1152x576 with 1 Axes>"
            ]
          },
          "metadata": {}
        }
      ]
    },
    {
      "cell_type": "markdown",
      "metadata": {
        "id": "ma6FNyfjXsKH"
      },
      "source": [
        "Видим, что в среднем, чем новее машина тем дороже. Однако, если идти по временному ряду назад, то выбросы становятся все больше. Это обусловленно тем, что за такой большой период сложно сохранить автомобиль и, чем лучше у него состояние, тем он дороже."
      ],
      "id": "ma6FNyfjXsKH"
    },
    {
      "cell_type": "markdown",
      "metadata": {
        "id": "R9XPkhlvXsKH"
      },
      "source": [
        "Зависимость цены от пробега при данной КПП"
      ],
      "id": "R9XPkhlvXsKH"
    },
    {
      "cell_type": "code",
      "metadata": {
        "colab": {
          "base_uri": "https://localhost:8080/",
          "height": 519
        },
        "id": "XSYPnUjkXsKH",
        "outputId": "3980e0d3-5de7-4b72-86a7-306afd2ef0ca"
      },
      "source": [
        "sns.scatterplot(x=df['mileage'], y=df['price'], hue=df['transmission'])"
      ],
      "id": "XSYPnUjkXsKH",
      "execution_count": 115,
      "outputs": [
        {
          "output_type": "execute_result",
          "data": {
            "text/plain": [
              "<matplotlib.axes._subplots.AxesSubplot at 0x7f9bf97cdf50>"
            ]
          },
          "metadata": {},
          "execution_count": 115
        },
        {
          "output_type": "display_data",
          "data": {
            "image/png": "[encoded data removed]",
            "text/plain": [
              "<Figure size 1152x576 with 1 Axes>"
            ]
          },
          "metadata": {}
        }
      ]
    },
    {
      "cell_type": "markdown",
      "metadata": {
        "id": "Ao8x9jl3XsKH"
      },
      "source": [
        "Чем меньше пробег, тем машина дороже. Также ручная КПП показатель более низкой цены, а полуавтоматическая - более высокой."
      ],
      "id": "Ao8x9jl3XsKH"
    },
    {
      "cell_type": "code",
      "metadata": {
        "id": "8sg-Ju26XsKI"
      },
      "source": [
        "# 2. Сделать препроцессинг, фичеинжинириг и т.д. \\\\ разрешается использование любых пакетов"
      ],
      "id": "8sg-Ju26XsKI",
      "execution_count": 116,
      "outputs": []
    },
    {
      "cell_type": "code",
      "metadata": {
        "colab": {
          "base_uri": "https://localhost:8080/"
        },
        "id": "I5li6MH4XsKI",
        "outputId": "6c6ae055-1e4d-4f60-c6db-c67b31a713bc"
      },
      "source": [
        "df.dtypes"
      ],
      "id": "I5li6MH4XsKI",
      "execution_count": 117,
      "outputs": [
        {
          "output_type": "execute_result",
          "data": {
            "text/plain": [
              "model            object\n",
              "year              int64\n",
              "price             int64\n",
              "transmission     object\n",
              "mileage           int64\n",
              "fuelType         object\n",
              "tax               int64\n",
              "mpg             float64\n",
              "engineSize      float64\n",
              "dtype: object"
            ]
          },
          "metadata": {},
          "execution_count": 117
        }
      ]
    },
    {
      "cell_type": "markdown",
      "metadata": {
        "id": "WrYBe4s8XsKI"
      },
      "source": [
        "Преобразуем строковые объекты в числовые."
      ],
      "id": "WrYBe4s8XsKI"
    },
    {
      "cell_type": "code",
      "metadata": {
        "colab": {
          "base_uri": "https://localhost:8080/"
        },
        "id": "Ff7vtaafXsKI",
        "outputId": "f84c1b12-703d-4d66-ed3e-71638daf8616"
      },
      "source": [
        "df['fuelType'].unique()"
      ],
      "id": "Ff7vtaafXsKI",
      "execution_count": 118,
      "outputs": [
        {
          "output_type": "execute_result",
          "data": {
            "text/plain": [
              "array(['Petrol', 'Hybrid', 'Diesel', 'Other'], dtype=object)"
            ]
          },
          "metadata": {},
          "execution_count": 118
        }
      ]
    },
    {
      "cell_type": "code",
      "metadata": {
        "id": "YkEdexYrXsKI"
      },
      "source": [
        "fuel = {'Petrol':0, 'Hybrid':1, 'Diesel':2, 'Other':3}\n",
        "df = df.replace({'fuelType' : fuel})"
      ],
      "id": "YkEdexYrXsKI",
      "execution_count": 119,
      "outputs": []
    },
    {
      "cell_type": "code",
      "metadata": {
        "colab": {
          "base_uri": "https://localhost:8080/"
        },
        "id": "dQRgMPewXsKI",
        "outputId": "c366c115-4eba-4eba-b52a-f1c8b3419870"
      },
      "source": [
        "df['transmission'].unique()"
      ],
      "id": "dQRgMPewXsKI",
      "execution_count": 120,
      "outputs": [
        {
          "output_type": "execute_result",
          "data": {
            "text/plain": [
              "array(['Automatic', 'Manual', 'Semi-Auto', 'Other'], dtype=object)"
            ]
          },
          "metadata": {},
          "execution_count": 120
        }
      ]
    },
    {
      "cell_type": "code",
      "metadata": {
        "id": "xQ7j-dzjXsKJ"
      },
      "source": [
        "transmission = {'Automatic':0, 'Manual':1, 'Semi-Auto':2, 'Other':3}\n",
        "df = df.replace({'transmission':transmission})"
      ],
      "id": "xQ7j-dzjXsKJ",
      "execution_count": 121,
      "outputs": []
    },
    {
      "cell_type": "code",
      "metadata": {
        "colab": {
          "base_uri": "https://localhost:8080/",
          "height": 204
        },
        "id": "GM7PWBsbXsKJ",
        "outputId": "995b038f-0c8c-4482-8508-9ea7e7220c51"
      },
      "source": [
        "df.head()"
      ],
      "id": "GM7PWBsbXsKJ",
      "execution_count": 122,
      "outputs": [
        {
          "output_type": "execute_result",
          "data": {
            "text/html": [
              "<div>\n",
              "<style scoped>\n",
              "    .dataframe tbody tr th:only-of-type {\n",
              "        vertical-align: middle;\n",
              "    }\n",
              "\n",
              "    .dataframe tbody tr th {\n",
              "        vertical-align: top;\n",
              "    }\n",
              "\n",
              "    .dataframe thead th {\n",
              "        text-align: right;\n",
              "    }\n",
              "</style>\n",
              "<table border=\"1\" class=\"dataframe\">\n",
              "  <thead>\n",
              "    <tr style=\"text-align: right;\">\n",
              "      <th></th>\n",
              "      <th>model</th>\n",
              "      <th>year</th>\n",
              "      <th>price</th>\n",
              "      <th>transmission</th>\n",
              "      <th>mileage</th>\n",
              "      <th>fuelType</th>\n",
              "      <th>tax</th>\n",
              "      <th>mpg</th>\n",
              "      <th>engineSize</th>\n",
              "    </tr>\n",
              "  </thead>\n",
              "  <tbody>\n",
              "    <tr>\n",
              "      <th>0</th>\n",
              "      <td>SLK</td>\n",
              "      <td>2005</td>\n",
              "      <td>5200</td>\n",
              "      <td>0</td>\n",
              "      <td>63000</td>\n",
              "      <td>0</td>\n",
              "      <td>325</td>\n",
              "      <td>32.1</td>\n",
              "      <td>1.8</td>\n",
              "    </tr>\n",
              "    <tr>\n",
              "      <th>1</th>\n",
              "      <td>S Class</td>\n",
              "      <td>2017</td>\n",
              "      <td>34948</td>\n",
              "      <td>0</td>\n",
              "      <td>27000</td>\n",
              "      <td>1</td>\n",
              "      <td>20</td>\n",
              "      <td>61.4</td>\n",
              "      <td>2.1</td>\n",
              "    </tr>\n",
              "    <tr>\n",
              "      <th>2</th>\n",
              "      <td>SL CLASS</td>\n",
              "      <td>2016</td>\n",
              "      <td>49948</td>\n",
              "      <td>0</td>\n",
              "      <td>6200</td>\n",
              "      <td>0</td>\n",
              "      <td>555</td>\n",
              "      <td>28.0</td>\n",
              "      <td>5.5</td>\n",
              "    </tr>\n",
              "    <tr>\n",
              "      <th>3</th>\n",
              "      <td>G Class</td>\n",
              "      <td>2016</td>\n",
              "      <td>61948</td>\n",
              "      <td>0</td>\n",
              "      <td>16000</td>\n",
              "      <td>0</td>\n",
              "      <td>325</td>\n",
              "      <td>30.4</td>\n",
              "      <td>4.0</td>\n",
              "    </tr>\n",
              "    <tr>\n",
              "      <th>4</th>\n",
              "      <td>G Class</td>\n",
              "      <td>2016</td>\n",
              "      <td>73948</td>\n",
              "      <td>0</td>\n",
              "      <td>4000</td>\n",
              "      <td>0</td>\n",
              "      <td>325</td>\n",
              "      <td>30.1</td>\n",
              "      <td>4.0</td>\n",
              "    </tr>\n",
              "  </tbody>\n",
              "</table>\n",
              "</div>"
            ],
            "text/plain": [
              "       model  year  price  transmission  ...  fuelType  tax   mpg  engineSize\n",
              "0        SLK  2005   5200             0  ...         0  325  32.1         1.8\n",
              "1    S Class  2017  34948             0  ...         1   20  61.4         2.1\n",
              "2   SL CLASS  2016  49948             0  ...         0  555  28.0         5.5\n",
              "3    G Class  2016  61948             0  ...         0  325  30.4         4.0\n",
              "4    G Class  2016  73948             0  ...         0  325  30.1         4.0\n",
              "\n",
              "[5 rows x 9 columns]"
            ]
          },
          "metadata": {},
          "execution_count": 122
        }
      ]
    },
    {
      "cell_type": "code",
      "metadata": {
        "id": "C4Bd8gOYXsKJ"
      },
      "source": [
        "df_expanded = pd.get_dummies(df)"
      ],
      "id": "C4Bd8gOYXsKJ",
      "execution_count": 123,
      "outputs": []
    },
    {
      "cell_type": "code",
      "metadata": {
        "colab": {
          "base_uri": "https://localhost:8080/",
          "height": 275
        },
        "id": "VY6oSUjUXsKJ",
        "outputId": "1f646cdc-38d4-44c6-8a66-e534e42bc516"
      },
      "source": [
        "print(df_expanded.shape)\n",
        "df_expanded.head()"
      ],
      "id": "VY6oSUjUXsKJ",
      "execution_count": 124,
      "outputs": [
        {
          "output_type": "stream",
          "name": "stdout",
          "text": [
            "(13119, 35)\n"
          ]
        },
        {
          "output_type": "execute_result",
          "data": {
            "text/html": [
              "<div>\n",
              "<style scoped>\n",
              "    .dataframe tbody tr th:only-of-type {\n",
              "        vertical-align: middle;\n",
              "    }\n",
              "\n",
              "    .dataframe tbody tr th {\n",
              "        vertical-align: top;\n",
              "    }\n",
              "\n",
              "    .dataframe thead th {\n",
              "        text-align: right;\n",
              "    }\n",
              "</style>\n",
              "<table border=\"1\" class=\"dataframe\">\n",
              "  <thead>\n",
              "    <tr style=\"text-align: right;\">\n",
              "      <th></th>\n",
              "      <th>year</th>\n",
              "      <th>price</th>\n",
              "      <th>transmission</th>\n",
              "      <th>mileage</th>\n",
              "      <th>fuelType</th>\n",
              "      <th>tax</th>\n",
              "      <th>mpg</th>\n",
              "      <th>engineSize</th>\n",
              "      <th>model_ A Class</th>\n",
              "      <th>model_ B Class</th>\n",
              "      <th>model_ C Class</th>\n",
              "      <th>model_ CL Class</th>\n",
              "      <th>model_ CLA Class</th>\n",
              "      <th>model_ CLC Class</th>\n",
              "      <th>model_ CLK</th>\n",
              "      <th>model_ CLS Class</th>\n",
              "      <th>model_ E Class</th>\n",
              "      <th>model_ G Class</th>\n",
              "      <th>model_ GL Class</th>\n",
              "      <th>model_ GLA Class</th>\n",
              "      <th>model_ GLB Class</th>\n",
              "      <th>model_ GLC Class</th>\n",
              "      <th>model_ GLE Class</th>\n",
              "      <th>model_ GLS Class</th>\n",
              "      <th>model_ M Class</th>\n",
              "      <th>model_ R Class</th>\n",
              "      <th>model_ S Class</th>\n",
              "      <th>model_ SL CLASS</th>\n",
              "      <th>model_ SLK</th>\n",
              "      <th>model_ V Class</th>\n",
              "      <th>model_ X-CLASS</th>\n",
              "      <th>model_180</th>\n",
              "      <th>model_200</th>\n",
              "      <th>model_220</th>\n",
              "      <th>model_230</th>\n",
              "    </tr>\n",
              "  </thead>\n",
              "  <tbody>\n",
              "    <tr>\n",
              "      <th>0</th>\n",
              "      <td>2005</td>\n",
              "      <td>5200</td>\n",
              "      <td>0</td>\n",
              "      <td>63000</td>\n",
              "      <td>0</td>\n",
              "      <td>325</td>\n",
              "      <td>32.1</td>\n",
              "      <td>1.8</td>\n",
              "      <td>0</td>\n",
              "      <td>0</td>\n",
              "      <td>0</td>\n",
              "      <td>0</td>\n",
              "      <td>0</td>\n",
              "      <td>0</td>\n",
              "      <td>0</td>\n",
              "      <td>0</td>\n",
              "      <td>0</td>\n",
              "      <td>0</td>\n",
              "      <td>0</td>\n",
              "      <td>0</td>\n",
              "      <td>0</td>\n",
              "      <td>0</td>\n",
              "      <td>0</td>\n",
              "      <td>0</td>\n",
              "      <td>0</td>\n",
              "      <td>0</td>\n",
              "      <td>0</td>\n",
              "      <td>0</td>\n",
              "      <td>1</td>\n",
              "      <td>0</td>\n",
              "      <td>0</td>\n",
              "      <td>0</td>\n",
              "      <td>0</td>\n",
              "      <td>0</td>\n",
              "      <td>0</td>\n",
              "    </tr>\n",
              "    <tr>\n",
              "      <th>1</th>\n",
              "      <td>2017</td>\n",
              "      <td>34948</td>\n",
              "      <td>0</td>\n",
              "      <td>27000</td>\n",
              "      <td>1</td>\n",
              "      <td>20</td>\n",
              "      <td>61.4</td>\n",
              "      <td>2.1</td>\n",
              "      <td>0</td>\n",
              "      <td>0</td>\n",
              "      <td>0</td>\n",
              "      <td>0</td>\n",
              "      <td>0</td>\n",
              "      <td>0</td>\n",
              "      <td>0</td>\n",
              "      <td>0</td>\n",
              "      <td>0</td>\n",
              "      <td>0</td>\n",
              "      <td>0</td>\n",
              "      <td>0</td>\n",
              "      <td>0</td>\n",
              "      <td>0</td>\n",
              "      <td>0</td>\n",
              "      <td>0</td>\n",
              "      <td>0</td>\n",
              "      <td>0</td>\n",
              "      <td>1</td>\n",
              "      <td>0</td>\n",
              "      <td>0</td>\n",
              "      <td>0</td>\n",
              "      <td>0</td>\n",
              "      <td>0</td>\n",
              "      <td>0</td>\n",
              "      <td>0</td>\n",
              "      <td>0</td>\n",
              "    </tr>\n",
              "    <tr>\n",
              "      <th>2</th>\n",
              "      <td>2016</td>\n",
              "      <td>49948</td>\n",
              "      <td>0</td>\n",
              "      <td>6200</td>\n",
              "      <td>0</td>\n",
              "      <td>555</td>\n",
              "      <td>28.0</td>\n",
              "      <td>5.5</td>\n",
              "      <td>0</td>\n",
              "      <td>0</td>\n",
              "      <td>0</td>\n",
              "      <td>0</td>\n",
              "      <td>0</td>\n",
              "      <td>0</td>\n",
              "      <td>0</td>\n",
              "      <td>0</td>\n",
              "      <td>0</td>\n",
              "      <td>0</td>\n",
              "      <td>0</td>\n",
              "      <td>0</td>\n",
              "      <td>0</td>\n",
              "      <td>0</td>\n",
              "      <td>0</td>\n",
              "      <td>0</td>\n",
              "      <td>0</td>\n",
              "      <td>0</td>\n",
              "      <td>0</td>\n",
              "      <td>1</td>\n",
              "      <td>0</td>\n",
              "      <td>0</td>\n",
              "      <td>0</td>\n",
              "      <td>0</td>\n",
              "      <td>0</td>\n",
              "      <td>0</td>\n",
              "      <td>0</td>\n",
              "    </tr>\n",
              "    <tr>\n",
              "      <th>3</th>\n",
              "      <td>2016</td>\n",
              "      <td>61948</td>\n",
              "      <td>0</td>\n",
              "      <td>16000</td>\n",
              "      <td>0</td>\n",
              "      <td>325</td>\n",
              "      <td>30.4</td>\n",
              "      <td>4.0</td>\n",
              "      <td>0</td>\n",
              "      <td>0</td>\n",
              "      <td>0</td>\n",
              "      <td>0</td>\n",
              "      <td>0</td>\n",
              "      <td>0</td>\n",
              "      <td>0</td>\n",
              "      <td>0</td>\n",
              "      <td>0</td>\n",
              "      <td>1</td>\n",
              "      <td>0</td>\n",
              "      <td>0</td>\n",
              "      <td>0</td>\n",
              "      <td>0</td>\n",
              "      <td>0</td>\n",
              "      <td>0</td>\n",
              "      <td>0</td>\n",
              "      <td>0</td>\n",
              "      <td>0</td>\n",
              "      <td>0</td>\n",
              "      <td>0</td>\n",
              "      <td>0</td>\n",
              "      <td>0</td>\n",
              "      <td>0</td>\n",
              "      <td>0</td>\n",
              "      <td>0</td>\n",
              "      <td>0</td>\n",
              "    </tr>\n",
              "    <tr>\n",
              "      <th>4</th>\n",
              "      <td>2016</td>\n",
              "      <td>73948</td>\n",
              "      <td>0</td>\n",
              "      <td>4000</td>\n",
              "      <td>0</td>\n",
              "      <td>325</td>\n",
              "      <td>30.1</td>\n",
              "      <td>4.0</td>\n",
              "      <td>0</td>\n",
              "      <td>0</td>\n",
              "      <td>0</td>\n",
              "      <td>0</td>\n",
              "      <td>0</td>\n",
              "      <td>0</td>\n",
              "      <td>0</td>\n",
              "      <td>0</td>\n",
              "      <td>0</td>\n",
              "      <td>1</td>\n",
              "      <td>0</td>\n",
              "      <td>0</td>\n",
              "      <td>0</td>\n",
              "      <td>0</td>\n",
              "      <td>0</td>\n",
              "      <td>0</td>\n",
              "      <td>0</td>\n",
              "      <td>0</td>\n",
              "      <td>0</td>\n",
              "      <td>0</td>\n",
              "      <td>0</td>\n",
              "      <td>0</td>\n",
              "      <td>0</td>\n",
              "      <td>0</td>\n",
              "      <td>0</td>\n",
              "      <td>0</td>\n",
              "      <td>0</td>\n",
              "    </tr>\n",
              "  </tbody>\n",
              "</table>\n",
              "</div>"
            ],
            "text/plain": [
              "   year  price  transmission  ...  model_200  model_220  model_230\n",
              "0  2005   5200             0  ...          0          0          0\n",
              "1  2017  34948             0  ...          0          0          0\n",
              "2  2016  49948             0  ...          0          0          0\n",
              "3  2016  61948             0  ...          0          0          0\n",
              "4  2016  73948             0  ...          0          0          0\n",
              "\n",
              "[5 rows x 35 columns]"
            ]
          },
          "metadata": {},
          "execution_count": 124
        }
      ]
    },
    {
      "cell_type": "markdown",
      "metadata": {
        "id": "k5BCJs1TXsKJ"
      },
      "source": [
        "Разделим данные на обучающую и тестовую выборки."
      ],
      "id": "k5BCJs1TXsKJ"
    },
    {
      "cell_type": "code",
      "metadata": {
        "id": "O3WK2VKVXsKJ"
      },
      "source": [
        "X = df_expanded.drop(columns=['price'])\n",
        "y = df_expanded['price']"
      ],
      "id": "O3WK2VKVXsKJ",
      "execution_count": 125,
      "outputs": []
    },
    {
      "cell_type": "code",
      "metadata": {
        "id": "4kfYT_9JXsKJ"
      },
      "source": [
        "X_train, X_test, y_train, y_test = train_test_split(X, y, test_size=0.2, random_state=42)"
      ],
      "id": "4kfYT_9JXsKJ",
      "execution_count": 126,
      "outputs": []
    },
    {
      "cell_type": "markdown",
      "metadata": {
        "id": "e4aPPM6kXsKK"
      },
      "source": [
        "Нормализуем данные."
      ],
      "id": "e4aPPM6kXsKK"
    },
    {
      "cell_type": "code",
      "metadata": {
        "id": "ng6lyohbXsKK"
      },
      "source": [
        "pca = MinMaxScaler()\n",
        "pca.fit(X_train)\n",
        "\n",
        "X_train = pca.transform(X_train)\n",
        "X_train = pd.DataFrame(X_train, columns=X.columns)\n",
        "\n",
        "X_test = pca.transform(X_test)\n",
        "X_test = pd.DataFrame(X_test, columns=X.columns)\n"
      ],
      "id": "ng6lyohbXsKK",
      "execution_count": 127,
      "outputs": []
    },
    {
      "cell_type": "code",
      "metadata": {
        "colab": {
          "base_uri": "https://localhost:8080/"
        },
        "id": "S2Y99kbBXsKK",
        "outputId": "42a49b66-c45d-49c2-c2ff-1843cfd08b72"
      },
      "source": [
        "print(X_train.shape)\n",
        "print(X_test.shape)\n",
        "print(y_train.shape)\n",
        "print(y_test.shape)"
      ],
      "id": "S2Y99kbBXsKK",
      "execution_count": 128,
      "outputs": [
        {
          "output_type": "stream",
          "name": "stdout",
          "text": [
            "(10495, 34)\n",
            "(2624, 34)\n",
            "(10495,)\n",
            "(2624,)\n"
          ]
        }
      ]
    },
    {
      "cell_type": "code",
      "metadata": {
        "id": "SZR1bIjHXsKK"
      },
      "source": [
        "# 3. Реализовать метрику качества \\\\ аргументировать выбор метрики качества "
      ],
      "id": "SZR1bIjHXsKK",
      "execution_count": 129,
      "outputs": []
    },
    {
      "cell_type": "markdown",
      "metadata": {
        "id": "TlPm82IbXsKK"
      },
      "source": [
        "Метрика R2 принимает значения от 0 до 1, чем ближе значение коэффициента к 1, тем сильнее модель соответствует данным. Эта метрика наиболее наглядна. Кроме того, используется в реализации линейной регрессии в sklearn."
      ],
      "id": "TlPm82IbXsKK"
    },
    {
      "cell_type": "code",
      "metadata": {
        "id": "2S0hg3ZaXsKK"
      },
      "source": [
        "def R2(y_actual, y_pred):\n",
        "    ssr = np.sum((y_pred - y_actual)**2)\n",
        "    sst = np.sum((y_actual - np.mean(y_actual))**2)\n",
        "    r2_score = 1 - (ssr/sst)\n",
        "    return r2_score"
      ],
      "id": "2S0hg3ZaXsKK",
      "execution_count": 130,
      "outputs": []
    },
    {
      "cell_type": "code",
      "metadata": {
        "id": "FFEXSvTzXsKL"
      },
      "source": [
        "# 4. Реализовать и обучить логистическую регрессию или линейную регрессию \\\\ !!!не разрешается использовать sklearn!!!\n",
        "\n",
        "class myLinearRegression:\n",
        "  def __init__(self, lr=0.05, max_iter = 10000):\n",
        "    self.max_iter = max_iter\n",
        "    self.lr = lr\n",
        "\n",
        "\n",
        "  def fit(self, X, y):\n",
        "    X = X.to_numpy()\n",
        "    y = y.to_numpy()\n",
        "    # Добавим единицу вначале\n",
        "    X = np.hstack((np.full((X.shape[0], 1), 1),X))\n",
        "\n",
        "    self.w = np.random.rand(X.shape[1])\n",
        "    self.error = []\n",
        "    m = X.shape[0]\n",
        "\n",
        "    for i in range(self.max_iter):\n",
        "      y_pred = np.dot(X, self.w)\n",
        "      diff = y_pred - y\n",
        "      grad = np.dot(X.T, diff)\n",
        "      self.w -= self.lr * grad / m\n",
        "      self.error.append(np.sum(diff ** 2) / (2 * m))\n",
        "    return self\n",
        "\n",
        "  def predict(self, X):\n",
        "    X = X.to_numpy()\n",
        "    X = np.hstack((np.full((X.shape[0], 1), 1),X))\n",
        "    return np.dot(X, self.w)\n",
        "  def score(self, X, y):\n",
        "    y = y.to_numpy()\n",
        "    y_pred = self.predict(X)\n",
        "    return R2(y, y_pred)\n"
      ],
      "id": "FFEXSvTzXsKL",
      "execution_count": 131,
      "outputs": []
    },
    {
      "cell_type": "code",
      "metadata": {
        "colab": {
          "base_uri": "https://localhost:8080/"
        },
        "id": "VtPpXfSIY4YL",
        "outputId": "9c6db190-3485-4834-83a5-5738d086e121"
      },
      "source": [
        "myLR = myLinearRegression()\n",
        "myLR.fit(X_train, y_train)"
      ],
      "id": "VtPpXfSIY4YL",
      "execution_count": 132,
      "outputs": [
        {
          "output_type": "execute_result",
          "data": {
            "text/plain": [
              "<__main__.myLinearRegression at 0x7f9bf9a0f290>"
            ]
          },
          "metadata": {},
          "execution_count": 132
        }
      ]
    },
    {
      "cell_type": "code",
      "metadata": {
        "id": "AqwMzuSbXsKL"
      },
      "source": [
        "# 4*. Добавить регуляризацию \\\\ не разрешается использовать sklearn"
      ],
      "id": "AqwMzuSbXsKL",
      "execution_count": 133,
      "outputs": []
    },
    {
      "cell_type": "code",
      "metadata": {
        "id": "bjbUPycqXsKL"
      },
      "source": [
        "# 5. Оценить качество модели на обучающей и тестовой выборках \\\\ не разрешается использовать sklearn\n",
        "train_score = myLR.score(X_train, y_train)\n",
        "test_score = myLR.score(X_test, y_test)\n"
      ],
      "id": "bjbUPycqXsKL",
      "execution_count": 134,
      "outputs": []
    },
    {
      "cell_type": "code",
      "metadata": {
        "colab": {
          "base_uri": "https://localhost:8080/"
        },
        "id": "xOKPI3GYhyQY",
        "outputId": "ef7d2467-172c-42f2-8b04-9ae730c694be"
      },
      "source": [
        "print(\"train score: {}\\ntest score: {}\".format(train_score, test_score))"
      ],
      "id": "xOKPI3GYhyQY",
      "execution_count": 135,
      "outputs": [
        {
          "output_type": "stream",
          "name": "stdout",
          "text": [
            "train score: 0.7316843763785396\n",
            "test score: 0.7029136612162172\n"
          ]
        }
      ]
    },
    {
      "cell_type": "code",
      "metadata": {
        "id": "ECP_ATJuXsKL"
      },
      "source": [
        "# 5*. Сделать график ошибки модели на обучающей и тестовой выборках \n",
        "# 5*. Сделать график точности модели на обучающей и тестовой выборках\n"
      ],
      "id": "ECP_ATJuXsKL",
      "execution_count": 136,
      "outputs": []
    },
    {
      "cell_type": "markdown",
      "metadata": {
        "id": "icLQB652iy6U"
      },
      "source": [
        "Составим график ошибки модели во время обучения."
      ],
      "id": "icLQB652iy6U"
    },
    {
      "cell_type": "code",
      "metadata": {
        "colab": {
          "base_uri": "https://localhost:8080/",
          "height": 513
        },
        "id": "eQIYXdTii430",
        "outputId": "42bdef4e-2bfc-4ab5-c337-2702d1faadd0"
      },
      "source": [
        "plt.plot(myLR.error)"
      ],
      "id": "eQIYXdTii430",
      "execution_count": 137,
      "outputs": [
        {
          "output_type": "execute_result",
          "data": {
            "text/plain": [
              "[<matplotlib.lines.Line2D at 0x7f9bf96f4210>]"
            ]
          },
          "metadata": {},
          "execution_count": 137
        },
        {
          "output_type": "display_data",
          "data": {
            "image/png": "[encoded data removed]",
            "text/plain": [
              "<Figure size 1152x576 with 1 Axes>"
            ]
          },
          "metadata": {}
        }
      ]
    },
    {
      "cell_type": "code",
      "metadata": {
        "id": "YrYIbI7ZXsKL"
      },
      "source": [
        "# 6. Обучить логистическую регрессию или линейную регрессию из sklearn, оценить качество модели на обучающей и тестовой выборках и сравнить со своей моделью"
      ],
      "id": "YrYIbI7ZXsKL",
      "execution_count": 138,
      "outputs": []
    },
    {
      "cell_type": "code",
      "metadata": {
        "id": "bqutSAuNjwdY"
      },
      "source": [
        "from sklearn.linear_model import LinearRegression"
      ],
      "id": "bqutSAuNjwdY",
      "execution_count": 139,
      "outputs": []
    },
    {
      "cell_type": "code",
      "metadata": {
        "colab": {
          "base_uri": "https://localhost:8080/"
        },
        "id": "IKnJCcjRj7vJ",
        "outputId": "6c385a5f-cc80-415e-a3a1-1179362e91e0"
      },
      "source": [
        "LR = LinearRegression(n_jobs=10000)\n",
        "LR.fit(X_train, y_train)"
      ],
      "id": "IKnJCcjRj7vJ",
      "execution_count": 140,
      "outputs": [
        {
          "output_type": "execute_result",
          "data": {
            "text/plain": [
              "LinearRegression(copy_X=True, fit_intercept=True, n_jobs=10000, normalize=False)"
            ]
          },
          "metadata": {},
          "execution_count": 140
        }
      ]
    },
    {
      "cell_type": "code",
      "metadata": {
        "id": "iMqKGv1skIpW"
      },
      "source": [
        "train_score = LR.score(X_train, y_train)\n",
        "test_score = LR.score(X_test, y_test)\n"
      ],
      "id": "iMqKGv1skIpW",
      "execution_count": 141,
      "outputs": []
    },
    {
      "cell_type": "code",
      "metadata": {
        "colab": {
          "base_uri": "https://localhost:8080/"
        },
        "id": "dcDM1oh3kXcD",
        "outputId": "63c1463a-f33a-4076-e905-df0ea611f7e8"
      },
      "source": [
        "print(\"train score: {}\\ntest score: {}\".format(train_score, test_score))"
      ],
      "id": "dcDM1oh3kXcD",
      "execution_count": 142,
      "outputs": [
        {
          "output_type": "stream",
          "name": "stdout",
          "text": [
            "train score: 0.7650950422585729\n",
            "test score: 0.7347662174834768\n"
          ]
        }
      ]
    },
    {
      "cell_type": "code",
      "metadata": {
        "id": "ClAMcVzSXsKL"
      },
      "source": [
        "# 6*. Сделать график ошибки модели из sklearn на обучающей и тестовой выборках и сравнить со своей моделью\n",
        "# 6*. Сделать график точности модели из sklearn на обучающей и тестовой выборках и сравнить со своей моделью"
      ],
      "id": "ClAMcVzSXsKL",
      "execution_count": 143,
      "outputs": []
    },
    {
      "cell_type": "code",
      "metadata": {
        "id": "MjjllkQFXsKL"
      },
      "source": [
        ""
      ],
      "id": "MjjllkQFXsKL",
      "execution_count": 143,
      "outputs": []
    }
  ]
}