{
  "nbformat": 4,
  "nbformat_minor": 2,
  "metadata": {
    "kernelspec": {
      "display_name": "Python 3",
      "language": "python",
      "name": "python3"
    },
    "language_info": {
      "codemirror_mode": {
        "name": "ipython",
        "version": 3
      },
      "file_extension": ".py",
      "mimetype": "text/x-python",
      "name": "python",
      "nbconvert_exporter": "python",
      "pygments_lexer": "ipython3",
      "version": "3.8.8"
    },
    "colab": {
      "name": "Лабораторная 3.ipynb",
      "provenance": [],
      "collapsed_sections": []
    }
  },
  "cells": [
    {
      "cell_type": "code",
      "execution_count": 633,
      "source": [
        "import matplotlib.pyplot as plt\n",
        "import seaborn as sns\n",
        "import pandas as pd\n",
        "import numpy as np\n",
        "import warnings\n",
        "warnings.simplefilter(\"ignore\")\n",
        "%matplotlib inline\n",
        "\n",
        "sns.set(style=\"darkgrid\")"
      ],
      "outputs": [],
      "metadata": {
        "id": "lFMjnTPlf_AE"
      }
    },
    {
      "cell_type": "code",
      "execution_count": 634,
      "source": [
        "data = pd.read_csv(\"train.csv\")\n",
        "data.head()"
      ],
      "outputs": [
        {
          "output_type": "execute_result",
          "data": {
            "text/html": [
              "<div>\n",
              "<style scoped>\n",
              "    .dataframe tbody tr th:only-of-type {\n",
              "        vertical-align: middle;\n",
              "    }\n",
              "\n",
              "    .dataframe tbody tr th {\n",
              "        vertical-align: top;\n",
              "    }\n",
              "\n",
              "    .dataframe thead th {\n",
              "        text-align: right;\n",
              "    }\n",
              "</style>\n",
              "<table border=\"1\" class=\"dataframe\">\n",
              "  <thead>\n",
              "    <tr style=\"text-align: right;\">\n",
              "      <th></th>\n",
              "      <th>Id</th>\n",
              "      <th>MSSubClass</th>\n",
              "      <th>MSZoning</th>\n",
              "      <th>LotFrontage</th>\n",
              "      <th>LotArea</th>\n",
              "      <th>Street</th>\n",
              "      <th>Alley</th>\n",
              "      <th>LotShape</th>\n",
              "      <th>LandContour</th>\n",
              "      <th>Utilities</th>\n",
              "      <th>LotConfig</th>\n",
              "      <th>LandSlope</th>\n",
              "      <th>Neighborhood</th>\n",
              "      <th>Condition1</th>\n",
              "      <th>Condition2</th>\n",
              "      <th>BldgType</th>\n",
              "      <th>HouseStyle</th>\n",
              "      <th>OverallQual</th>\n",
              "      <th>OverallCond</th>\n",
              "      <th>YearBuilt</th>\n",
              "      <th>YearRemodAdd</th>\n",
              "      <th>RoofStyle</th>\n",
              "      <th>RoofMatl</th>\n",
              "      <th>Exterior1st</th>\n",
              "      <th>Exterior2nd</th>\n",
              "      <th>MasVnrType</th>\n",
              "      <th>MasVnrArea</th>\n",
              "      <th>ExterQual</th>\n",
              "      <th>ExterCond</th>\n",
              "      <th>Foundation</th>\n",
              "      <th>BsmtQual</th>\n",
              "      <th>BsmtCond</th>\n",
              "      <th>BsmtExposure</th>\n",
              "      <th>BsmtFinType1</th>\n",
              "      <th>BsmtFinSF1</th>\n",
              "      <th>BsmtFinType2</th>\n",
              "      <th>BsmtFinSF2</th>\n",
              "      <th>BsmtUnfSF</th>\n",
              "      <th>TotalBsmtSF</th>\n",
              "      <th>Heating</th>\n",
              "      <th>...</th>\n",
              "      <th>CentralAir</th>\n",
              "      <th>Electrical</th>\n",
              "      <th>1stFlrSF</th>\n",
              "      <th>2ndFlrSF</th>\n",
              "      <th>LowQualFinSF</th>\n",
              "      <th>GrLivArea</th>\n",
              "      <th>BsmtFullBath</th>\n",
              "      <th>BsmtHalfBath</th>\n",
              "      <th>FullBath</th>\n",
              "      <th>HalfBath</th>\n",
              "      <th>BedroomAbvGr</th>\n",
              "      <th>KitchenAbvGr</th>\n",
              "      <th>KitchenQual</th>\n",
              "      <th>TotRmsAbvGrd</th>\n",
              "      <th>Functional</th>\n",
              "      <th>Fireplaces</th>\n",
              "      <th>FireplaceQu</th>\n",
              "      <th>GarageType</th>\n",
              "      <th>GarageYrBlt</th>\n",
              "      <th>GarageFinish</th>\n",
              "      <th>GarageCars</th>\n",
              "      <th>GarageArea</th>\n",
              "      <th>GarageQual</th>\n",
              "      <th>GarageCond</th>\n",
              "      <th>PavedDrive</th>\n",
              "      <th>WoodDeckSF</th>\n",
              "      <th>OpenPorchSF</th>\n",
              "      <th>EnclosedPorch</th>\n",
              "      <th>3SsnPorch</th>\n",
              "      <th>ScreenPorch</th>\n",
              "      <th>PoolArea</th>\n",
              "      <th>PoolQC</th>\n",
              "      <th>Fence</th>\n",
              "      <th>MiscFeature</th>\n",
              "      <th>MiscVal</th>\n",
              "      <th>MoSold</th>\n",
              "      <th>YrSold</th>\n",
              "      <th>SaleType</th>\n",
              "      <th>SaleCondition</th>\n",
              "      <th>SalePrice</th>\n",
              "    </tr>\n",
              "  </thead>\n",
              "  <tbody>\n",
              "    <tr>\n",
              "      <th>0</th>\n",
              "      <td>1</td>\n",
              "      <td>60</td>\n",
              "      <td>RL</td>\n",
              "      <td>65.0</td>\n",
              "      <td>8450</td>\n",
              "      <td>Pave</td>\n",
              "      <td>NaN</td>\n",
              "      <td>Reg</td>\n",
              "      <td>Lvl</td>\n",
              "      <td>AllPub</td>\n",
              "      <td>Inside</td>\n",
              "      <td>Gtl</td>\n",
              "      <td>CollgCr</td>\n",
              "      <td>Norm</td>\n",
              "      <td>Norm</td>\n",
              "      <td>1Fam</td>\n",
              "      <td>2Story</td>\n",
              "      <td>7</td>\n",
              "      <td>5</td>\n",
              "      <td>2003</td>\n",
              "      <td>2003</td>\n",
              "      <td>Gable</td>\n",
              "      <td>CompShg</td>\n",
              "      <td>VinylSd</td>\n",
              "      <td>VinylSd</td>\n",
              "      <td>BrkFace</td>\n",
              "      <td>196.0</td>\n",
              "      <td>Gd</td>\n",
              "      <td>TA</td>\n",
              "      <td>PConc</td>\n",
              "      <td>Gd</td>\n",
              "      <td>TA</td>\n",
              "      <td>No</td>\n",
              "      <td>GLQ</td>\n",
              "      <td>706</td>\n",
              "      <td>Unf</td>\n",
              "      <td>0</td>\n",
              "      <td>150</td>\n",
              "      <td>856</td>\n",
              "      <td>GasA</td>\n",
              "      <td>...</td>\n",
              "      <td>Y</td>\n",
              "      <td>SBrkr</td>\n",
              "      <td>856</td>\n",
              "      <td>854</td>\n",
              "      <td>0</td>\n",
              "      <td>1710</td>\n",
              "      <td>1</td>\n",
              "      <td>0</td>\n",
              "      <td>2</td>\n",
              "      <td>1</td>\n",
              "      <td>3</td>\n",
              "      <td>1</td>\n",
              "      <td>Gd</td>\n",
              "      <td>8</td>\n",
              "      <td>Typ</td>\n",
              "      <td>0</td>\n",
              "      <td>NaN</td>\n",
              "      <td>Attchd</td>\n",
              "      <td>2003.0</td>\n",
              "      <td>RFn</td>\n",
              "      <td>2</td>\n",
              "      <td>548</td>\n",
              "      <td>TA</td>\n",
              "      <td>TA</td>\n",
              "      <td>Y</td>\n",
              "      <td>0</td>\n",
              "      <td>61</td>\n",
              "      <td>0</td>\n",
              "      <td>0</td>\n",
              "      <td>0</td>\n",
              "      <td>0</td>\n",
              "      <td>NaN</td>\n",
              "      <td>NaN</td>\n",
              "      <td>NaN</td>\n",
              "      <td>0</td>\n",
              "      <td>2</td>\n",
              "      <td>2008</td>\n",
              "      <td>WD</td>\n",
              "      <td>Normal</td>\n",
              "      <td>208500</td>\n",
              "    </tr>\n",
              "    <tr>\n",
              "      <th>1</th>\n",
              "      <td>2</td>\n",
              "      <td>20</td>\n",
              "      <td>RL</td>\n",
              "      <td>80.0</td>\n",
              "      <td>9600</td>\n",
              "      <td>Pave</td>\n",
              "      <td>NaN</td>\n",
              "      <td>Reg</td>\n",
              "      <td>Lvl</td>\n",
              "      <td>AllPub</td>\n",
              "      <td>FR2</td>\n",
              "      <td>Gtl</td>\n",
              "      <td>Veenker</td>\n",
              "      <td>Feedr</td>\n",
              "      <td>Norm</td>\n",
              "      <td>1Fam</td>\n",
              "      <td>1Story</td>\n",
              "      <td>6</td>\n",
              "      <td>8</td>\n",
              "      <td>1976</td>\n",
              "      <td>1976</td>\n",
              "      <td>Gable</td>\n",
              "      <td>CompShg</td>\n",
              "      <td>MetalSd</td>\n",
              "      <td>MetalSd</td>\n",
              "      <td>None</td>\n",
              "      <td>0.0</td>\n",
              "      <td>TA</td>\n",
              "      <td>TA</td>\n",
              "      <td>CBlock</td>\n",
              "      <td>Gd</td>\n",
              "      <td>TA</td>\n",
              "      <td>Gd</td>\n",
              "      <td>ALQ</td>\n",
              "      <td>978</td>\n",
              "      <td>Unf</td>\n",
              "      <td>0</td>\n",
              "      <td>284</td>\n",
              "      <td>1262</td>\n",
              "      <td>GasA</td>\n",
              "      <td>...</td>\n",
              "      <td>Y</td>\n",
              "      <td>SBrkr</td>\n",
              "      <td>1262</td>\n",
              "      <td>0</td>\n",
              "      <td>0</td>\n",
              "      <td>1262</td>\n",
              "      <td>0</td>\n",
              "      <td>1</td>\n",
              "      <td>2</td>\n",
              "      <td>0</td>\n",
              "      <td>3</td>\n",
              "      <td>1</td>\n",
              "      <td>TA</td>\n",
              "      <td>6</td>\n",
              "      <td>Typ</td>\n",
              "      <td>1</td>\n",
              "      <td>TA</td>\n",
              "      <td>Attchd</td>\n",
              "      <td>1976.0</td>\n",
              "      <td>RFn</td>\n",
              "      <td>2</td>\n",
              "      <td>460</td>\n",
              "      <td>TA</td>\n",
              "      <td>TA</td>\n",
              "      <td>Y</td>\n",
              "      <td>298</td>\n",
              "      <td>0</td>\n",
              "      <td>0</td>\n",
              "      <td>0</td>\n",
              "      <td>0</td>\n",
              "      <td>0</td>\n",
              "      <td>NaN</td>\n",
              "      <td>NaN</td>\n",
              "      <td>NaN</td>\n",
              "      <td>0</td>\n",
              "      <td>5</td>\n",
              "      <td>2007</td>\n",
              "      <td>WD</td>\n",
              "      <td>Normal</td>\n",
              "      <td>181500</td>\n",
              "    </tr>\n",
              "    <tr>\n",
              "      <th>2</th>\n",
              "      <td>3</td>\n",
              "      <td>60</td>\n",
              "      <td>RL</td>\n",
              "      <td>68.0</td>\n",
              "      <td>11250</td>\n",
              "      <td>Pave</td>\n",
              "      <td>NaN</td>\n",
              "      <td>IR1</td>\n",
              "      <td>Lvl</td>\n",
              "      <td>AllPub</td>\n",
              "      <td>Inside</td>\n",
              "      <td>Gtl</td>\n",
              "      <td>CollgCr</td>\n",
              "      <td>Norm</td>\n",
              "      <td>Norm</td>\n",
              "      <td>1Fam</td>\n",
              "      <td>2Story</td>\n",
              "      <td>7</td>\n",
              "      <td>5</td>\n",
              "      <td>2001</td>\n",
              "      <td>2002</td>\n",
              "      <td>Gable</td>\n",
              "      <td>CompShg</td>\n",
              "      <td>VinylSd</td>\n",
              "      <td>VinylSd</td>\n",
              "      <td>BrkFace</td>\n",
              "      <td>162.0</td>\n",
              "      <td>Gd</td>\n",
              "      <td>TA</td>\n",
              "      <td>PConc</td>\n",
              "      <td>Gd</td>\n",
              "      <td>TA</td>\n",
              "      <td>Mn</td>\n",
              "      <td>GLQ</td>\n",
              "      <td>486</td>\n",
              "      <td>Unf</td>\n",
              "      <td>0</td>\n",
              "      <td>434</td>\n",
              "      <td>920</td>\n",
              "      <td>GasA</td>\n",
              "      <td>...</td>\n",
              "      <td>Y</td>\n",
              "      <td>SBrkr</td>\n",
              "      <td>920</td>\n",
              "      <td>866</td>\n",
              "      <td>0</td>\n",
              "      <td>1786</td>\n",
              "      <td>1</td>\n",
              "      <td>0</td>\n",
              "      <td>2</td>\n",
              "      <td>1</td>\n",
              "      <td>3</td>\n",
              "      <td>1</td>\n",
              "      <td>Gd</td>\n",
              "      <td>6</td>\n",
              "      <td>Typ</td>\n",
              "      <td>1</td>\n",
              "      <td>TA</td>\n",
              "      <td>Attchd</td>\n",
              "      <td>2001.0</td>\n",
              "      <td>RFn</td>\n",
              "      <td>2</td>\n",
              "      <td>608</td>\n",
              "      <td>TA</td>\n",
              "      <td>TA</td>\n",
              "      <td>Y</td>\n",
              "      <td>0</td>\n",
              "      <td>42</td>\n",
              "      <td>0</td>\n",
              "      <td>0</td>\n",
              "      <td>0</td>\n",
              "      <td>0</td>\n",
              "      <td>NaN</td>\n",
              "      <td>NaN</td>\n",
              "      <td>NaN</td>\n",
              "      <td>0</td>\n",
              "      <td>9</td>\n",
              "      <td>2008</td>\n",
              "      <td>WD</td>\n",
              "      <td>Normal</td>\n",
              "      <td>223500</td>\n",
              "    </tr>\n",
              "    <tr>\n",
              "      <th>3</th>\n",
              "      <td>4</td>\n",
              "      <td>70</td>\n",
              "      <td>RL</td>\n",
              "      <td>60.0</td>\n",
              "      <td>9550</td>\n",
              "      <td>Pave</td>\n",
              "      <td>NaN</td>\n",
              "      <td>IR1</td>\n",
              "      <td>Lvl</td>\n",
              "      <td>AllPub</td>\n",
              "      <td>Corner</td>\n",
              "      <td>Gtl</td>\n",
              "      <td>Crawfor</td>\n",
              "      <td>Norm</td>\n",
              "      <td>Norm</td>\n",
              "      <td>1Fam</td>\n",
              "      <td>2Story</td>\n",
              "      <td>7</td>\n",
              "      <td>5</td>\n",
              "      <td>1915</td>\n",
              "      <td>1970</td>\n",
              "      <td>Gable</td>\n",
              "      <td>CompShg</td>\n",
              "      <td>Wd Sdng</td>\n",
              "      <td>Wd Shng</td>\n",
              "      <td>None</td>\n",
              "      <td>0.0</td>\n",
              "      <td>TA</td>\n",
              "      <td>TA</td>\n",
              "      <td>BrkTil</td>\n",
              "      <td>TA</td>\n",
              "      <td>Gd</td>\n",
              "      <td>No</td>\n",
              "      <td>ALQ</td>\n",
              "      <td>216</td>\n",
              "      <td>Unf</td>\n",
              "      <td>0</td>\n",
              "      <td>540</td>\n",
              "      <td>756</td>\n",
              "      <td>GasA</td>\n",
              "      <td>...</td>\n",
              "      <td>Y</td>\n",
              "      <td>SBrkr</td>\n",
              "      <td>961</td>\n",
              "      <td>756</td>\n",
              "      <td>0</td>\n",
              "      <td>1717</td>\n",
              "      <td>1</td>\n",
              "      <td>0</td>\n",
              "      <td>1</td>\n",
              "      <td>0</td>\n",
              "      <td>3</td>\n",
              "      <td>1</td>\n",
              "      <td>Gd</td>\n",
              "      <td>7</td>\n",
              "      <td>Typ</td>\n",
              "      <td>1</td>\n",
              "      <td>Gd</td>\n",
              "      <td>Detchd</td>\n",
              "      <td>1998.0</td>\n",
              "      <td>Unf</td>\n",
              "      <td>3</td>\n",
              "      <td>642</td>\n",
              "      <td>TA</td>\n",
              "      <td>TA</td>\n",
              "      <td>Y</td>\n",
              "      <td>0</td>\n",
              "      <td>35</td>\n",
              "      <td>272</td>\n",
              "      <td>0</td>\n",
              "      <td>0</td>\n",
              "      <td>0</td>\n",
              "      <td>NaN</td>\n",
              "      <td>NaN</td>\n",
              "      <td>NaN</td>\n",
              "      <td>0</td>\n",
              "      <td>2</td>\n",
              "      <td>2006</td>\n",
              "      <td>WD</td>\n",
              "      <td>Abnorml</td>\n",
              "      <td>140000</td>\n",
              "    </tr>\n",
              "    <tr>\n",
              "      <th>4</th>\n",
              "      <td>5</td>\n",
              "      <td>60</td>\n",
              "      <td>RL</td>\n",
              "      <td>84.0</td>\n",
              "      <td>14260</td>\n",
              "      <td>Pave</td>\n",
              "      <td>NaN</td>\n",
              "      <td>IR1</td>\n",
              "      <td>Lvl</td>\n",
              "      <td>AllPub</td>\n",
              "      <td>FR2</td>\n",
              "      <td>Gtl</td>\n",
              "      <td>NoRidge</td>\n",
              "      <td>Norm</td>\n",
              "      <td>Norm</td>\n",
              "      <td>1Fam</td>\n",
              "      <td>2Story</td>\n",
              "      <td>8</td>\n",
              "      <td>5</td>\n",
              "      <td>2000</td>\n",
              "      <td>2000</td>\n",
              "      <td>Gable</td>\n",
              "      <td>CompShg</td>\n",
              "      <td>VinylSd</td>\n",
              "      <td>VinylSd</td>\n",
              "      <td>BrkFace</td>\n",
              "      <td>350.0</td>\n",
              "      <td>Gd</td>\n",
              "      <td>TA</td>\n",
              "      <td>PConc</td>\n",
              "      <td>Gd</td>\n",
              "      <td>TA</td>\n",
              "      <td>Av</td>\n",
              "      <td>GLQ</td>\n",
              "      <td>655</td>\n",
              "      <td>Unf</td>\n",
              "      <td>0</td>\n",
              "      <td>490</td>\n",
              "      <td>1145</td>\n",
              "      <td>GasA</td>\n",
              "      <td>...</td>\n",
              "      <td>Y</td>\n",
              "      <td>SBrkr</td>\n",
              "      <td>1145</td>\n",
              "      <td>1053</td>\n",
              "      <td>0</td>\n",
              "      <td>2198</td>\n",
              "      <td>1</td>\n",
              "      <td>0</td>\n",
              "      <td>2</td>\n",
              "      <td>1</td>\n",
              "      <td>4</td>\n",
              "      <td>1</td>\n",
              "      <td>Gd</td>\n",
              "      <td>9</td>\n",
              "      <td>Typ</td>\n",
              "      <td>1</td>\n",
              "      <td>TA</td>\n",
              "      <td>Attchd</td>\n",
              "      <td>2000.0</td>\n",
              "      <td>RFn</td>\n",
              "      <td>3</td>\n",
              "      <td>836</td>\n",
              "      <td>TA</td>\n",
              "      <td>TA</td>\n",
              "      <td>Y</td>\n",
              "      <td>192</td>\n",
              "      <td>84</td>\n",
              "      <td>0</td>\n",
              "      <td>0</td>\n",
              "      <td>0</td>\n",
              "      <td>0</td>\n",
              "      <td>NaN</td>\n",
              "      <td>NaN</td>\n",
              "      <td>NaN</td>\n",
              "      <td>0</td>\n",
              "      <td>12</td>\n",
              "      <td>2008</td>\n",
              "      <td>WD</td>\n",
              "      <td>Normal</td>\n",
              "      <td>250000</td>\n",
              "    </tr>\n",
              "  </tbody>\n",
              "</table>\n",
              "<p>5 rows × 81 columns</p>\n",
              "</div>"
            ],
            "text/plain": [
              "   Id  MSSubClass MSZoning  ...  SaleType  SaleCondition SalePrice\n",
              "0   1          60       RL  ...        WD         Normal    208500\n",
              "1   2          20       RL  ...        WD         Normal    181500\n",
              "2   3          60       RL  ...        WD         Normal    223500\n",
              "3   4          70       RL  ...        WD        Abnorml    140000\n",
              "4   5          60       RL  ...        WD         Normal    250000\n",
              "\n",
              "[5 rows x 81 columns]"
            ]
          },
          "metadata": {},
          "execution_count": 634
        }
      ],
      "metadata": {
        "colab": {
          "base_uri": "https://localhost:8080/",
          "height": 253
        },
        "id": "5iLH88DGf_AG",
        "outputId": "d5d82a65-ba46-480b-c6f2-aad3b1e0bc80"
      }
    },
    {
      "cell_type": "code",
      "execution_count": 635,
      "source": [
        "data.shape"
      ],
      "outputs": [
        {
          "output_type": "execute_result",
          "data": {
            "text/plain": [
              "(1460, 81)"
            ]
          },
          "metadata": {},
          "execution_count": 635
        }
      ],
      "metadata": {
        "colab": {
          "base_uri": "https://localhost:8080/"
        },
        "id": "RjNFIU6If_AH",
        "outputId": "9e79a7cc-fe52-4e28-cf5e-a1a5df085cf3"
      }
    },
    {
      "cell_type": "code",
      "execution_count": 636,
      "source": [
        "data.columns"
      ],
      "outputs": [
        {
          "output_type": "execute_result",
          "data": {
            "text/plain": [
              "Index(['Id', 'MSSubClass', 'MSZoning', 'LotFrontage', 'LotArea', 'Street',\n",
              "       'Alley', 'LotShape', 'LandContour', 'Utilities', 'LotConfig',\n",
              "       'LandSlope', 'Neighborhood', 'Condition1', 'Condition2', 'BldgType',\n",
              "       'HouseStyle', 'OverallQual', 'OverallCond', 'YearBuilt', 'YearRemodAdd',\n",
              "       'RoofStyle', 'RoofMatl', 'Exterior1st', 'Exterior2nd', 'MasVnrType',\n",
              "       'MasVnrArea', 'ExterQual', 'ExterCond', 'Foundation', 'BsmtQual',\n",
              "       'BsmtCond', 'BsmtExposure', 'BsmtFinType1', 'BsmtFinSF1',\n",
              "       'BsmtFinType2', 'BsmtFinSF2', 'BsmtUnfSF', 'TotalBsmtSF', 'Heating',\n",
              "       'HeatingQC', 'CentralAir', 'Electrical', '1stFlrSF', '2ndFlrSF',\n",
              "       'LowQualFinSF', 'GrLivArea', 'BsmtFullBath', 'BsmtHalfBath', 'FullBath',\n",
              "       'HalfBath', 'BedroomAbvGr', 'KitchenAbvGr', 'KitchenQual',\n",
              "       'TotRmsAbvGrd', 'Functional', 'Fireplaces', 'FireplaceQu', 'GarageType',\n",
              "       'GarageYrBlt', 'GarageFinish', 'GarageCars', 'GarageArea', 'GarageQual',\n",
              "       'GarageCond', 'PavedDrive', 'WoodDeckSF', 'OpenPorchSF',\n",
              "       'EnclosedPorch', '3SsnPorch', 'ScreenPorch', 'PoolArea', 'PoolQC',\n",
              "       'Fence', 'MiscFeature', 'MiscVal', 'MoSold', 'YrSold', 'SaleType',\n",
              "       'SaleCondition', 'SalePrice'],\n",
              "      dtype='object')"
            ]
          },
          "metadata": {},
          "execution_count": 636
        }
      ],
      "metadata": {
        "colab": {
          "base_uri": "https://localhost:8080/"
        },
        "id": "7JSkJDikf_AI",
        "outputId": "7d132619-8dcf-42b1-fe73-a12f1d3353cf"
      }
    },
    {
      "cell_type": "code",
      "execution_count": 637,
      "source": [
        "from sklearn.model_selection import train_test_split\n",
        "\n",
        "data = data.drop(columns=[\"Id\"])\n",
        "\n",
        "y = data[\"SalePrice\"]\n",
        "X = data.drop(columns=[\"SalePrice\"])\n",
        "\n",
        "X_train, X_test, y_train, y_test = train_test_split(X, y, test_size=0.3, random_state=10)"
      ],
      "outputs": [],
      "metadata": {
        "id": "RyQhPz6lf_AI"
      }
    },
    {
      "cell_type": "code",
      "execution_count": 638,
      "source": [
        "sns.distplot(y_train)"
      ],
      "outputs": [
        {
          "output_type": "execute_result",
          "data": {
            "text/plain": [
              "<matplotlib.axes._subplots.AxesSubplot at 0x7fd1b87da590>"
            ]
          },
          "metadata": {},
          "execution_count": 638
        },
        {
          "output_type": "display_data",
          "data": {
            "image/png": "[encoded data removed]",
            "text/plain": [
              "<Figure size 432x288 with 1 Axes>"
            ]
          },
          "metadata": {}
        }
      ],
      "metadata": {
        "colab": {
          "base_uri": "https://localhost:8080/",
          "height": 313
        },
        "id": "0DpNb-Qgf_AI",
        "outputId": "88c25de3-96a7-4df4-de05-57f53d092626"
      }
    },
    {
      "cell_type": "code",
      "execution_count": 639,
      "source": [
        "# Обучите линейную регрессию (LinearRegression, Ridge, Lasso) на числовых признаках из нашего датасета\n",
        "\n",
        "# Оказывается в данных есть выбросы.\n",
        "X_test.isin([np.nan]).sum()\n"
      ],
      "outputs": [
        {
          "output_type": "execute_result",
          "data": {
            "text/plain": [
              "MSSubClass        0\n",
              "MSZoning          0\n",
              "LotFrontage      82\n",
              "LotArea           0\n",
              "Street            0\n",
              "                 ..\n",
              "MiscVal           0\n",
              "MoSold            0\n",
              "YrSold            0\n",
              "SaleType          0\n",
              "SaleCondition     0\n",
              "Length: 79, dtype: int64"
            ]
          },
          "metadata": {},
          "execution_count": 639
        }
      ],
      "metadata": {
        "colab": {
          "base_uri": "https://localhost:8080/"
        },
        "id": "0fE5AwXIf_AJ",
        "outputId": "d324f596-fd8a-431f-98d6-d61220341395"
      }
    },
    {
      "cell_type": "code",
      "execution_count": 640,
      "source": [
        "# Заменим выбросы на среднее значение в данной колонке.\n",
        "\n",
        "X_test = X_test.fillna(X_test.mean())\n",
        "X_train = X_train.fillna(X_train.mean())\n",
        "print(X_train.shape, X_test.shape)"
      ],
      "outputs": [
        {
          "output_type": "stream",
          "name": "stdout",
          "text": [
            "(1022, 79) (438, 79)\n"
          ]
        }
      ],
      "metadata": {
        "colab": {
          "base_uri": "https://localhost:8080/"
        },
        "id": "F9ngVR_QgVUu",
        "outputId": "0fa31945-6b45-47ce-c012-30639cd64b2e"
      }
    },
    {
      "cell_type": "code",
      "execution_count": 641,
      "source": [
        "from sklearn.linear_model import LinearRegression\n",
        "from sklearn.linear_model import Ridge\n",
        "from sklearn.linear_model import Lasso\n",
        "\n",
        "# Выберем числовые признаки из нашего датасета.\n",
        "\n",
        "numeric_features = list(X_train.dtypes[X_train.dtypes != \"object\"].index)\n",
        "X_train_num = X_train[numeric_features]\n",
        "X_test_num = X_test[numeric_features]"
      ],
      "outputs": [],
      "metadata": {
        "id": "3MMDVcF4gHKp"
      }
    },
    {
      "cell_type": "code",
      "execution_count": 642,
      "source": [
        "LR = LinearRegression().fit(X_train_num, y_train)\n",
        "print('Linear Regression. Train score: {}, Test score {}'.format(LR.score(X_train_num, y_train), LR.score(X_test_num, y_test)))"
      ],
      "outputs": [
        {
          "output_type": "stream",
          "name": "stdout",
          "text": [
            "Linear Regression. Train score: 0.804515401124162, Test score 0.8240650978474798\n"
          ]
        }
      ],
      "metadata": {
        "colab": {
          "base_uri": "https://localhost:8080/"
        },
        "id": "DxMA5xGjh1U6",
        "outputId": "3b4b71de-c994-49df-e817-858ff49f64ec"
      }
    },
    {
      "cell_type": "code",
      "execution_count": 643,
      "source": [
        "Rid = Ridge().fit(X_train_num, y_train)\n",
        "print('Ridge. Train score: {}, Test score {}'.format(Rid.score(X_train_num, y_train), Rid.score(X_test_num, y_test)))"
      ],
      "outputs": [
        {
          "output_type": "stream",
          "name": "stdout",
          "text": [
            "Ridge. Train score: 0.8045137453176897, Test score 0.8241847850284749\n"
          ]
        }
      ],
      "metadata": {
        "colab": {
          "base_uri": "https://localhost:8080/"
        },
        "id": "psaxkL58iQbw",
        "outputId": "084f5842-de1e-45d8-dd6a-dea4ea125496"
      }
    },
    {
      "cell_type": "code",
      "execution_count": 644,
      "source": [
        "Las = Lasso().fit(X_train_num, y_train)\n",
        "print('Lasso. Train score: {}, Test score {}'.format(Las.score(X_train_num, y_train), Las.score(X_test_num, y_test)))"
      ],
      "outputs": [
        {
          "output_type": "stream",
          "name": "stdout",
          "text": [
            "Lasso. Train score: 0.8045153825798179, Test score 0.824078827719559\n"
          ]
        }
      ],
      "metadata": {
        "colab": {
          "base_uri": "https://localhost:8080/"
        },
        "id": "15DVWMQCj88E",
        "outputId": "6a7e9b92-d2a9-4f7f-85e0-6b36765476c9"
      }
    },
    {
      "cell_type": "markdown",
      "source": [
        "$$\\text{RMSE}(X, y, a) = \\sqrt{\\frac{1}{\\ell}\\sum_{i=1}^{\\ell} (y_i - a(x_i))^2}$$"
      ],
      "metadata": {
        "id": "X2bw7sKwf_AJ"
      }
    },
    {
      "cell_type": "code",
      "execution_count": 645,
      "source": [
        "# Определите RMSE через функцию sklearn.metrics.make_scorer\n",
        "\n",
        "from sklearn.metrics import make_scorer\n",
        "\n",
        "def RMSE(y, a_x, **kwargs):\n",
        "  return np.sqrt(np.mean(np.sqrt(y - a_x)) / len(y))\n",
        "\n",
        "score_RMSE = make_scorer(RMSE)"
      ],
      "outputs": [],
      "metadata": {
        "id": "pOq83i9If_AK"
      }
    },
    {
      "cell_type": "code",
      "execution_count": 646,
      "source": [
        "def show_weights(features, weights, scales):\n",
        "    fig, axs = plt.subplots(figsize=(14, 10), ncols=2)\n",
        "    sorted_weights = sorted(zip(weights, features, scales), reverse=True)\n",
        "    weights = [x[0] for x in sorted_weights]\n",
        "    features = [x[1] for x in sorted_weights]\n",
        "    scales = [x[2] for x in sorted_weights]\n",
        "    sns.barplot(y=features, x=weights, ax=axs[0])\n",
        "    axs[0].set_xlabel(\"Weight\")\n",
        "    sns.barplot(y=features, x=scales, ax=axs[1])\n",
        "    axs[1].set_xlabel(\"Scale\")\n",
        "    plt.tight_layout()"
      ],
      "outputs": [],
      "metadata": {
        "id": "zQosjPbLf_AL"
      }
    },
    {
      "cell_type": "code",
      "execution_count": 647,
      "source": [
        "model = LinearRegression().fit(X_train_num, y_train)"
      ],
      "outputs": [],
      "metadata": {
        "id": "yQUsJIDiA1_p"
      }
    },
    {
      "cell_type": "code",
      "execution_count": 648,
      "source": [
        "show_weights(numeric_features, model.coef_, X_train[numeric_features].std())"
      ],
      "outputs": [
        {
          "output_type": "display_data",
          "data": {
            "image/png": "[encoded data removed]",
            "text/plain": [
              "<Figure size 1008x720 with 2 Axes>"
            ]
          },
          "metadata": {}
        }
      ],
      "metadata": {
        "colab": {
          "base_uri": "https://localhost:8080/",
          "height": 613
        },
        "id": "lAhZ7Djff_AL",
        "outputId": "9ad4cd59-a507-4998-cb2b-a338baad6d30"
      }
    },
    {
      "cell_type": "code",
      "execution_count": 649,
      "source": [
        "# Отмасштабируйте признаки перед обучением модели, воспользуясь трансформером StandardScaler\n",
        "\n",
        "from sklearn.preprocessing import StandardScaler\n",
        "scaler = StandardScaler()\n",
        "scaler.fit(X_train_num)\n",
        "X_train_scaled = scaler.transform(X_train_num)\n",
        "X_test_scaled = scaler.transform(X_test_num)\n",
        "\n"
      ],
      "outputs": [],
      "metadata": {
        "id": "mnrxpdyuf_AL"
      }
    },
    {
      "cell_type": "code",
      "execution_count": 650,
      "source": [
        "model = LinearRegression().fit(X_train_scaled, y_train)"
      ],
      "outputs": [],
      "metadata": {
        "id": "h9bcJ4j4BXNR"
      }
    },
    {
      "cell_type": "code",
      "execution_count": 651,
      "source": [
        "scales = pd.Series(data=X_train_scaled.std(axis=0), index=numeric_features)\n",
        "show_weights(numeric_features, model.coef_, scales)"
      ],
      "outputs": [
        {
          "output_type": "display_data",
          "data": {
            "image/png": "[encoded data removed]",
            "text/plain": [
              "<Figure size 1008x720 with 2 Axes>"
            ]
          },
          "metadata": {}
        }
      ],
      "metadata": {
        "colab": {
          "base_uri": "https://localhost:8080/",
          "height": 613
        },
        "id": "BuZoH_Mpf_AM",
        "outputId": "bec865c4-719b-42ba-8218-2a6750f59ec0"
      }
    },
    {
      "cell_type": "code",
      "execution_count": 652,
      "source": [
        "# Подберите коэффициент регуляризации alpha, воспользуясь GridSearchCV\n",
        "\n",
        "# Для LinearRegression подбирать смысла нет, там нет параметра alpha, для Ridge и Lasso \n",
        "from sklearn.model_selection import GridSearchCV\n",
        "from sklearn.pipeline import Pipeline\n",
        "param_grid = {'alpha':np.linspace(0.1, 2., 50)}"
      ],
      "outputs": [],
      "metadata": {
        "id": "_HP2SdSnf_AM"
      }
    },
    {
      "cell_type": "code",
      "execution_count": 653,
      "source": [
        "L = GridSearchCV(Lasso(), param_grid=param_grid)\n",
        "L.fit(X_train_num, y_train)\n",
        "L.best_params_\n"
      ],
      "outputs": [
        {
          "output_type": "execute_result",
          "data": {
            "text/plain": [
              "{'alpha': 0.1}"
            ]
          },
          "metadata": {},
          "execution_count": 653
        }
      ],
      "metadata": {
        "colab": {
          "base_uri": "https://localhost:8080/"
        },
        "id": "gwM6cjyV1P0_",
        "outputId": "f14d839d-2f7b-46f6-8323-f5afb04ed039"
      }
    },
    {
      "cell_type": "code",
      "execution_count": 654,
      "source": [
        "pipeline = Pipeline([(\"scaler\", StandardScaler()), (\"l\", Lasso(alpha=0.1) ) ])\n",
        "pipeline.fit(X_train_num, y_train)\n",
        "print('Lasso. Train score: {}, Test score {}'.format(pipeline.score(X_train_num, y_train),\n",
        "                                                     pipeline.score(X_test_num, y_test)))"
      ],
      "outputs": [
        {
          "output_type": "stream",
          "name": "stdout",
          "text": [
            "Lasso. Train score: 0.8045154010250001, Test score 0.8240661892922989\n"
          ]
        }
      ],
      "metadata": {
        "colab": {
          "base_uri": "https://localhost:8080/"
        },
        "id": "UexAkwNK1cPH",
        "outputId": "cbd6d5b4-469e-4970-ca8f-803e37a2ea59"
      }
    },
    {
      "cell_type": "code",
      "execution_count": 655,
      "source": [
        "\n",
        "R = GridSearchCV(Ridge(), param_grid=param_grid)\n",
        "R.fit(X_train_num, y_train)\n",
        "R.best_params_"
      ],
      "outputs": [
        {
          "output_type": "execute_result",
          "data": {
            "text/plain": [
              "{'alpha': 2.0}"
            ]
          },
          "metadata": {},
          "execution_count": 655
        }
      ],
      "metadata": {
        "colab": {
          "base_uri": "https://localhost:8080/"
        },
        "id": "HqlvrVbemGcZ",
        "outputId": "d6cc74fe-c4ed-4601-8455-12954cf2c045"
      }
    },
    {
      "cell_type": "code",
      "execution_count": 656,
      "source": [
        "# Обучите линейную регрессию (LinearRegression, Ridge, Lasso) с подобранным коэффициентом регуляризации на числовых признаках из нашего датасета, воспользуясь классом Pipeline (не забывать про мастабирование признаков через StandardScaler)\n",
        "pipeline = Pipeline([(\"scaler\", StandardScaler()), (\"l\", Ridge(alpha=2.) ) ])\n",
        "pipeline.fit(X_train_num, y_train)\n",
        "print('Ridge. Train score: {}, Test score {}'.format(pipeline.score(X_train_num, y_train),\n",
        "                                                     pipeline.score(X_test_num, y_test)))"
      ],
      "outputs": [
        {
          "output_type": "stream",
          "name": "stdout",
          "text": [
            "Ridge. Train score: 0.8045130651635554, Test score 0.8243107764426039\n"
          ]
        }
      ],
      "metadata": {
        "colab": {
          "base_uri": "https://localhost:8080/"
        },
        "id": "X-Uft-Upf_AN",
        "outputId": "2685c1d0-cee0-45fc-edbe-00204f74034b"
      }
    },
    {
      "cell_type": "code",
      "execution_count": 657,
      "source": [
        "categorical = list(X_train.dtypes[X_train.dtypes == \"object\"].index)\n",
        "X_train[categorical] = X_train[categorical].fillna(\"NotGiven\")\n",
        "X_test[categorical] = X_test[categorical].fillna(\"NotGiven\")"
      ],
      "outputs": [],
      "metadata": {
        "id": "d4c7zafpf_AN"
      }
    },
    {
      "cell_type": "code",
      "execution_count": 658,
      "source": [
        "X_train[categorical].sample(5)"
      ],
      "outputs": [
        {
          "output_type": "execute_result",
          "data": {
            "text/html": [
              "<div>\n",
              "<style scoped>\n",
              "    .dataframe tbody tr th:only-of-type {\n",
              "        vertical-align: middle;\n",
              "    }\n",
              "\n",
              "    .dataframe tbody tr th {\n",
              "        vertical-align: top;\n",
              "    }\n",
              "\n",
              "    .dataframe thead th {\n",
              "        text-align: right;\n",
              "    }\n",
              "</style>\n",
              "<table border=\"1\" class=\"dataframe\">\n",
              "  <thead>\n",
              "    <tr style=\"text-align: right;\">\n",
              "      <th></th>\n",
              "      <th>MSZoning</th>\n",
              "      <th>Street</th>\n",
              "      <th>Alley</th>\n",
              "      <th>LotShape</th>\n",
              "      <th>LandContour</th>\n",
              "      <th>Utilities</th>\n",
              "      <th>LotConfig</th>\n",
              "      <th>LandSlope</th>\n",
              "      <th>Neighborhood</th>\n",
              "      <th>Condition1</th>\n",
              "      <th>Condition2</th>\n",
              "      <th>BldgType</th>\n",
              "      <th>HouseStyle</th>\n",
              "      <th>RoofStyle</th>\n",
              "      <th>RoofMatl</th>\n",
              "      <th>Exterior1st</th>\n",
              "      <th>Exterior2nd</th>\n",
              "      <th>MasVnrType</th>\n",
              "      <th>ExterQual</th>\n",
              "      <th>ExterCond</th>\n",
              "      <th>Foundation</th>\n",
              "      <th>BsmtQual</th>\n",
              "      <th>BsmtCond</th>\n",
              "      <th>BsmtExposure</th>\n",
              "      <th>BsmtFinType1</th>\n",
              "      <th>BsmtFinType2</th>\n",
              "      <th>Heating</th>\n",
              "      <th>HeatingQC</th>\n",
              "      <th>CentralAir</th>\n",
              "      <th>Electrical</th>\n",
              "      <th>KitchenQual</th>\n",
              "      <th>Functional</th>\n",
              "      <th>FireplaceQu</th>\n",
              "      <th>GarageType</th>\n",
              "      <th>GarageFinish</th>\n",
              "      <th>GarageQual</th>\n",
              "      <th>GarageCond</th>\n",
              "      <th>PavedDrive</th>\n",
              "      <th>PoolQC</th>\n",
              "      <th>Fence</th>\n",
              "      <th>MiscFeature</th>\n",
              "      <th>SaleType</th>\n",
              "      <th>SaleCondition</th>\n",
              "    </tr>\n",
              "  </thead>\n",
              "  <tbody>\n",
              "    <tr>\n",
              "      <th>680</th>\n",
              "      <td>RL</td>\n",
              "      <td>Pave</td>\n",
              "      <td>NotGiven</td>\n",
              "      <td>Reg</td>\n",
              "      <td>Lvl</td>\n",
              "      <td>AllPub</td>\n",
              "      <td>Inside</td>\n",
              "      <td>Gtl</td>\n",
              "      <td>SawyerW</td>\n",
              "      <td>Norm</td>\n",
              "      <td>Norm</td>\n",
              "      <td>TwnhsE</td>\n",
              "      <td>1Story</td>\n",
              "      <td>Gable</td>\n",
              "      <td>CompShg</td>\n",
              "      <td>Plywood</td>\n",
              "      <td>Plywood</td>\n",
              "      <td>None</td>\n",
              "      <td>TA</td>\n",
              "      <td>TA</td>\n",
              "      <td>CBlock</td>\n",
              "      <td>Gd</td>\n",
              "      <td>TA</td>\n",
              "      <td>No</td>\n",
              "      <td>BLQ</td>\n",
              "      <td>BLQ</td>\n",
              "      <td>GasA</td>\n",
              "      <td>TA</td>\n",
              "      <td>Y</td>\n",
              "      <td>SBrkr</td>\n",
              "      <td>TA</td>\n",
              "      <td>Typ</td>\n",
              "      <td>TA</td>\n",
              "      <td>Attchd</td>\n",
              "      <td>RFn</td>\n",
              "      <td>TA</td>\n",
              "      <td>TA</td>\n",
              "      <td>Y</td>\n",
              "      <td>NotGiven</td>\n",
              "      <td>NotGiven</td>\n",
              "      <td>NotGiven</td>\n",
              "      <td>WD</td>\n",
              "      <td>Normal</td>\n",
              "    </tr>\n",
              "    <tr>\n",
              "      <th>545</th>\n",
              "      <td>RL</td>\n",
              "      <td>Pave</td>\n",
              "      <td>NotGiven</td>\n",
              "      <td>IR1</td>\n",
              "      <td>Lvl</td>\n",
              "      <td>AllPub</td>\n",
              "      <td>Corner</td>\n",
              "      <td>Gtl</td>\n",
              "      <td>NWAmes</td>\n",
              "      <td>Norm</td>\n",
              "      <td>Norm</td>\n",
              "      <td>1Fam</td>\n",
              "      <td>1.5Fin</td>\n",
              "      <td>Gable</td>\n",
              "      <td>CompShg</td>\n",
              "      <td>HdBoard</td>\n",
              "      <td>HdBoard</td>\n",
              "      <td>BrkFace</td>\n",
              "      <td>Gd</td>\n",
              "      <td>Gd</td>\n",
              "      <td>PConc</td>\n",
              "      <td>Gd</td>\n",
              "      <td>Gd</td>\n",
              "      <td>No</td>\n",
              "      <td>GLQ</td>\n",
              "      <td>LwQ</td>\n",
              "      <td>GasA</td>\n",
              "      <td>Gd</td>\n",
              "      <td>Y</td>\n",
              "      <td>SBrkr</td>\n",
              "      <td>Gd</td>\n",
              "      <td>Typ</td>\n",
              "      <td>NotGiven</td>\n",
              "      <td>Attchd</td>\n",
              "      <td>Unf</td>\n",
              "      <td>TA</td>\n",
              "      <td>TA</td>\n",
              "      <td>Y</td>\n",
              "      <td>NotGiven</td>\n",
              "      <td>NotGiven</td>\n",
              "      <td>NotGiven</td>\n",
              "      <td>WD</td>\n",
              "      <td>Normal</td>\n",
              "    </tr>\n",
              "    <tr>\n",
              "      <th>199</th>\n",
              "      <td>RL</td>\n",
              "      <td>Pave</td>\n",
              "      <td>NotGiven</td>\n",
              "      <td>Reg</td>\n",
              "      <td>Lvl</td>\n",
              "      <td>AllPub</td>\n",
              "      <td>Inside</td>\n",
              "      <td>Gtl</td>\n",
              "      <td>NridgHt</td>\n",
              "      <td>Norm</td>\n",
              "      <td>Norm</td>\n",
              "      <td>1Fam</td>\n",
              "      <td>1Story</td>\n",
              "      <td>Hip</td>\n",
              "      <td>CompShg</td>\n",
              "      <td>VinylSd</td>\n",
              "      <td>VinylSd</td>\n",
              "      <td>BrkFace</td>\n",
              "      <td>Gd</td>\n",
              "      <td>TA</td>\n",
              "      <td>PConc</td>\n",
              "      <td>Ex</td>\n",
              "      <td>TA</td>\n",
              "      <td>Av</td>\n",
              "      <td>GLQ</td>\n",
              "      <td>Unf</td>\n",
              "      <td>GasA</td>\n",
              "      <td>Ex</td>\n",
              "      <td>Y</td>\n",
              "      <td>SBrkr</td>\n",
              "      <td>Ex</td>\n",
              "      <td>Typ</td>\n",
              "      <td>Gd</td>\n",
              "      <td>Attchd</td>\n",
              "      <td>Fin</td>\n",
              "      <td>TA</td>\n",
              "      <td>TA</td>\n",
              "      <td>Y</td>\n",
              "      <td>NotGiven</td>\n",
              "      <td>NotGiven</td>\n",
              "      <td>NotGiven</td>\n",
              "      <td>WD</td>\n",
              "      <td>Normal</td>\n",
              "    </tr>\n",
              "    <tr>\n",
              "      <th>664</th>\n",
              "      <td>RL</td>\n",
              "      <td>Pave</td>\n",
              "      <td>NotGiven</td>\n",
              "      <td>IR2</td>\n",
              "      <td>Lvl</td>\n",
              "      <td>AllPub</td>\n",
              "      <td>CulDSac</td>\n",
              "      <td>Gtl</td>\n",
              "      <td>Somerst</td>\n",
              "      <td>RRAn</td>\n",
              "      <td>Norm</td>\n",
              "      <td>1Fam</td>\n",
              "      <td>1Story</td>\n",
              "      <td>Gable</td>\n",
              "      <td>CompShg</td>\n",
              "      <td>VinylSd</td>\n",
              "      <td>VinylSd</td>\n",
              "      <td>None</td>\n",
              "      <td>Gd</td>\n",
              "      <td>TA</td>\n",
              "      <td>PConc</td>\n",
              "      <td>Ex</td>\n",
              "      <td>TA</td>\n",
              "      <td>Mn</td>\n",
              "      <td>GLQ</td>\n",
              "      <td>Unf</td>\n",
              "      <td>GasA</td>\n",
              "      <td>Ex</td>\n",
              "      <td>Y</td>\n",
              "      <td>SBrkr</td>\n",
              "      <td>Ex</td>\n",
              "      <td>Typ</td>\n",
              "      <td>Ex</td>\n",
              "      <td>Attchd</td>\n",
              "      <td>Fin</td>\n",
              "      <td>TA</td>\n",
              "      <td>TA</td>\n",
              "      <td>Y</td>\n",
              "      <td>NotGiven</td>\n",
              "      <td>NotGiven</td>\n",
              "      <td>NotGiven</td>\n",
              "      <td>New</td>\n",
              "      <td>Partial</td>\n",
              "    </tr>\n",
              "    <tr>\n",
              "      <th>740</th>\n",
              "      <td>RM</td>\n",
              "      <td>Pave</td>\n",
              "      <td>Grvl</td>\n",
              "      <td>Reg</td>\n",
              "      <td>Lvl</td>\n",
              "      <td>AllPub</td>\n",
              "      <td>Inside</td>\n",
              "      <td>Gtl</td>\n",
              "      <td>OldTown</td>\n",
              "      <td>Norm</td>\n",
              "      <td>Norm</td>\n",
              "      <td>1Fam</td>\n",
              "      <td>2Story</td>\n",
              "      <td>Gable</td>\n",
              "      <td>CompShg</td>\n",
              "      <td>Wd Sdng</td>\n",
              "      <td>Wd Shng</td>\n",
              "      <td>None</td>\n",
              "      <td>TA</td>\n",
              "      <td>Gd</td>\n",
              "      <td>BrkTil</td>\n",
              "      <td>Fa</td>\n",
              "      <td>Fa</td>\n",
              "      <td>No</td>\n",
              "      <td>Unf</td>\n",
              "      <td>Unf</td>\n",
              "      <td>GasA</td>\n",
              "      <td>Ex</td>\n",
              "      <td>Y</td>\n",
              "      <td>SBrkr</td>\n",
              "      <td>TA</td>\n",
              "      <td>Typ</td>\n",
              "      <td>NotGiven</td>\n",
              "      <td>Detchd</td>\n",
              "      <td>Unf</td>\n",
              "      <td>TA</td>\n",
              "      <td>Gd</td>\n",
              "      <td>Y</td>\n",
              "      <td>NotGiven</td>\n",
              "      <td>GdPrv</td>\n",
              "      <td>NotGiven</td>\n",
              "      <td>WD</td>\n",
              "      <td>Abnorml</td>\n",
              "    </tr>\n",
              "  </tbody>\n",
              "</table>\n",
              "</div>"
            ],
            "text/plain": [
              "    MSZoning Street     Alley  ... MiscFeature SaleType SaleCondition\n",
              "680       RL   Pave  NotGiven  ...    NotGiven       WD        Normal\n",
              "545       RL   Pave  NotGiven  ...    NotGiven       WD        Normal\n",
              "199       RL   Pave  NotGiven  ...    NotGiven       WD        Normal\n",
              "664       RL   Pave  NotGiven  ...    NotGiven      New       Partial\n",
              "740       RM   Pave      Grvl  ...    NotGiven       WD       Abnorml\n",
              "\n",
              "[5 rows x 43 columns]"
            ]
          },
          "metadata": {},
          "execution_count": 658
        }
      ],
      "metadata": {
        "colab": {
          "base_uri": "https://localhost:8080/",
          "height": 224
        },
        "id": "g0y_iqu7f_AN",
        "outputId": "ee8be62a-7397-4977-bfdf-1c35dfbdb0f5"
      }
    },
    {
      "cell_type": "code",
      "execution_count": 659,
      "source": [
        "# Закодируйте категориальные признаки числами с помощью OneHotEncoder и обучите модели на всех признаках\n",
        "from sklearn.compose import ColumnTransformer\n",
        "from sklearn.preprocessing import OneHotEncoder\n",
        "\n",
        "data =  pd.get_dummies(X)\n",
        "\n",
        "X_train_scaled = pd.get_dummies(X_train)\n",
        "X_test_scaled = pd.get_dummies(X_test)\n",
        "print(X_train_scaled.shape, X_test_scaled.shape)\n",
        "\n"
      ],
      "outputs": [
        {
          "output_type": "stream",
          "name": "stdout",
          "text": [
            "(1022, 294) (438, 276)\n"
          ]
        }
      ],
      "metadata": {
        "colab": {
          "base_uri": "https://localhost:8080/"
        },
        "id": "o2dEkzeWf_AO",
        "outputId": "3ee1cf89-1549-4e82-9a13-d6fe4de6ca5e"
      }
    },
    {
      "cell_type": "code",
      "execution_count": 660,
      "source": [
        "from sklearn.compose import ColumnTransformer\n",
        "print(\"Size after OneHot:\", X_train_scaled.shape)\n"
      ],
      "outputs": [
        {
          "output_type": "stream",
          "name": "stdout",
          "text": [
            "Size after OneHot: (1022, 294)\n"
          ]
        }
      ],
      "metadata": {
        "colab": {
          "base_uri": "https://localhost:8080/"
        },
        "id": "bTtCbdL1f_AO",
        "outputId": "0a8f332b-69cb-42ce-f415-fd1c648e0161"
      }
    },
    {
      "cell_type": "code",
      "execution_count": 661,
      "source": [
        "# Обучите линейную регрессию с l1 и l2 регуляризаторами\n",
        "ridge_pipeline = Pipeline([(\"scaler\", StandardScaler()), (\"r\", Ridge() ) ])\n",
        "ridge_pipeline.fit(X_train_scaled, y_train)\n",
        "lasso_pipeline = Pipeline([(\"scaler\", StandardScaler()), (\"l\", Lasso() ) ])\n",
        "lasso_pipeline.fit(X_train_scaled, y_train)"
      ],
      "outputs": [
        {
          "output_type": "execute_result",
          "data": {
            "text/plain": [
              "Pipeline(memory=None,\n",
              "         steps=[('scaler',\n",
              "                 StandardScaler(copy=True, with_mean=True, with_std=True)),\n",
              "                ('l',\n",
              "                 Lasso(alpha=1.0, copy_X=True, fit_intercept=True,\n",
              "                       max_iter=1000, normalize=False, positive=False,\n",
              "                       precompute=False, random_state=None, selection='cyclic',\n",
              "                       tol=0.0001, warm_start=False))],\n",
              "         verbose=False)"
            ]
          },
          "metadata": {},
          "execution_count": 661
        }
      ],
      "metadata": {
        "colab": {
          "base_uri": "https://localhost:8080/"
        },
        "id": "5Zdw7tAMf_AO",
        "outputId": "6adc88eb-1b85-403a-a882-75a45b6a21a9"
      }
    },
    {
      "cell_type": "code",
      "execution_count": 662,
      "source": [
        "ridge_zeros = np.sum(pipeline.steps[-1][-1].coef_ == 0)\n",
        "lasso_zeros = np.sum(lasso_pipeline.steps[-1][-1].coef_ == 0)\n",
        "print(\"Zero weights in Ridge:\", ridge_zeros)\n",
        "print(\"Zero weights in Lasso:\", lasso_zeros)"
      ],
      "outputs": [
        {
          "output_type": "stream",
          "name": "stdout",
          "text": [
            "Zero weights in Ridge: 0\n",
            "Zero weights in Lasso: 27\n"
          ]
        }
      ],
      "metadata": {
        "colab": {
          "base_uri": "https://localhost:8080/"
        },
        "id": "FP7Ft3vrf_AP",
        "outputId": "bd480cc5-108f-411e-e2a5-d4b09fc521e9"
      }
    },
    {
      "cell_type": "code",
      "execution_count": 663,
      "source": [
        "# Подберите коэффициент регуляризации для всех моделей, воспользуясь GridSearchCV\n",
        "\n",
        "param_grid = {'r__alpha':np.linspace(0.1, 2., 50)}\n",
        "R = GridSearchCV(ridge_pipeline, param_grid=param_grid)\n",
        "R.fit(X_train_scaled, y_train)\n",
        "R.best_params_\n"
      ],
      "outputs": [
        {
          "output_type": "execute_result",
          "data": {
            "text/plain": [
              "{'r__alpha': 0.1}"
            ]
          },
          "metadata": {},
          "execution_count": 663
        }
      ],
      "metadata": {
        "colab": {
          "base_uri": "https://localhost:8080/"
        },
        "id": "jKMrrOOwf_AQ",
        "outputId": "23853f0e-b19d-4c6b-c8fe-db5d42881a99"
      }
    },
    {
      "cell_type": "code",
      "execution_count": 664,
      "source": [
        "param_grid = {'l__alpha':np.linspace(0.1, 2., 50)}\n",
        "L = GridSearchCV(lasso_pipeline, param_grid=param_grid)\n",
        "L.fit(X_train_scaled, y_train)\n",
        "L.best_params_\n"
      ],
      "outputs": [
        {
          "output_type": "execute_result",
          "data": {
            "text/plain": [
              "{'l__alpha': 2.0}"
            ]
          },
          "metadata": {},
          "execution_count": 664
        }
      ],
      "metadata": {
        "colab": {
          "base_uri": "https://localhost:8080/"
        },
        "id": "RKRLy0htYRmQ",
        "outputId": "5ea17a4c-47dd-48a5-8aad-6d797b4f7091"
      }
    },
    {
      "cell_type": "code",
      "execution_count": 665,
      "source": [
        "error = (y_train - lasso_pipeline.predict(X_train_scaled)) ** 2\n",
        "ax = sns.distplot(error)\n",
        "ax.set_ylim([0, max([p.get_height() for p in ax.patches])])"
      ],
      "outputs": [
        {
          "output_type": "execute_result",
          "data": {
            "text/plain": [
              "(0.0, 1.460725980037334e-09)"
            ]
          },
          "metadata": {},
          "execution_count": 665
        },
        {
          "output_type": "display_data",
          "data": {
            "image/png": "[encoded data removed]",
            "text/plain": [
              "<Figure size 432x288 with 1 Axes>"
            ]
          },
          "metadata": {}
        }
      ],
      "metadata": {
        "colab": {
          "base_uri": "https://localhost:8080/",
          "height": 313
        },
        "id": "ZB_J9khdf_AQ",
        "outputId": "4b45c16a-102b-412d-8ae2-8bee7ff0d43b"
      }
    },
    {
      "cell_type": "markdown",
      "source": [
        "Как видно из гистограммы, есть примеры с очень большими остатками. Попробуем их выбросить из обучающей выборки. Например, выбросим примеры, остаток у которых больше 0.95-квантили."
      ],
      "metadata": {
        "id": "JIxolYFpf_AQ"
      }
    },
    {
      "cell_type": "code",
      "execution_count": 666,
      "source": [
        "# Выбросите из обучающей выборки примеры, остаток у которых больше 0.95-квантили и переобучите модели \n",
        "# TO DO\n",
        "grid = np.linspace(np.min(error), np.max(error), 100)\n",
        "cells, numer_cell = np.unique(np.digitize(error, grid), return_counts=True)\n",
        "cell_sum = np.cumsum(numer_cell)\n",
        "fitting_cells = cells[cell_sum / cell_sum[-1] < 0.95]\n",
        "\n"
      ],
      "outputs": [],
      "metadata": {
        "id": "-2uehrZ_f_AR"
      }
    },
    {
      "cell_type": "code",
      "execution_count": 667,
      "source": [
        "mask = np.isin(np.digitize(error, grid), fitting_cells)"
      ],
      "outputs": [],
      "metadata": {
        "id": "KMRBPLARiGmH"
      }
    },
    {
      "cell_type": "code",
      "execution_count": 668,
      "source": [
        "error = (y_train[mask] - lasso_pipeline.predict(X_train_scaled[mask])) ** 2\n",
        "ax = sns.distplot(error)\n",
        "ax.set_ylim([0, max([p.get_height() for p in ax.patches])])"
      ],
      "outputs": [
        {
          "output_type": "execute_result",
          "data": {
            "text/plain": [
              "(0.0, 1.0598040296514596e-08)"
            ]
          },
          "metadata": {},
          "execution_count": 668
        },
        {
          "output_type": "display_data",
          "data": {
            "image/png": "[encoded data removed]",
            "text/plain": [
              "<Figure size 432x288 with 1 Axes>"
            ]
          },
          "metadata": {}
        }
      ],
      "metadata": {
        "colab": {
          "base_uri": "https://localhost:8080/",
          "height": 313
        },
        "id": "0AxB1yJLf_AR",
        "outputId": "01ae52b9-7a51-44c9-e2b2-5523ae8b95a1"
      }
    },
    {
      "cell_type": "code",
      "execution_count": 669,
      "source": [
        "from sklearn.preprocessing import OneHotEncoder\n",
        "from sklearn.compose import ColumnTransformer\n",
        "column_transformer = ColumnTransformer(\n",
        "           [('scale', StandardScaler(), list(map(lambda x : X_train.columns.get_loc(x), numeric_features))),\n",
        "            ('encode', OneHotEncoder(), list(map(lambda x : X_train.columns.get_loc(x), categorical)))])\n",
        "column_transformer.fit(X_train)"
      ],
      "outputs": [
        {
          "output_type": "execute_result",
          "data": {
            "text/plain": [
              "ColumnTransformer(n_jobs=None, remainder='drop', sparse_threshold=0.3,\n",
              "                  transformer_weights=None,\n",
              "                  transformers=[('scale',\n",
              "                                 StandardScaler(copy=True, with_mean=True,\n",
              "                                                with_std=True),\n",
              "                                 [0, 2, 3, 16, 17, 18, 19, 25, 33, 35, 36, 37,\n",
              "                                  42, 43, 44, 45, 46, 47, 48, 49, 50, 51, 53,\n",
              "                                  55, 58, 60, 61, 65, 66, 67, ...]),\n",
              "                                ('encode',\n",
              "                                 OneHotEncoder(categories='auto', drop=None,\n",
              "                                               dtype=<class 'numpy.float64'>,\n",
              "                                               handle_unknown='error',\n",
              "                                               sparse=True),\n",
              "                                 [1, 4, 5, 6, 7, 8, 9, 10, 11, 12, 13, 14, 15,\n",
              "                                  20, 21, 22, 23, 24, 26, 27, 28, 29, 30, 31,\n",
              "                                  32, 34, 38, 39, 40, 41, ...])],\n",
              "                  verbose=False)"
            ]
          },
          "metadata": {},
          "execution_count": 669
        }
      ],
      "metadata": {
        "colab": {
          "base_uri": "https://localhost:8080/"
        },
        "id": "b1RiKVh3sTsD",
        "outputId": "652225fa-0b8c-4ca4-8fc7-bdce8c7927e6"
      }
    },
    {
      "cell_type": "code",
      "execution_count": 674,
      "source": [
        "lasso_pipeline = Pipeline([(\"transformer\", column_transformer), (\"l\", Lasso() ) ])\n",
        "lasso_pipeline.fit(X_train, y_train)"
      ],
      "outputs": [
        {
          "output_type": "execute_result",
          "data": {
            "text/plain": [
              "Pipeline(memory=None,\n",
              "         steps=[('transformer',\n",
              "                 ColumnTransformer(n_jobs=None, remainder='drop',\n",
              "                                   sparse_threshold=0.3,\n",
              "                                   transformer_weights=None,\n",
              "                                   transformers=[('scale',\n",
              "                                                  StandardScaler(copy=True,\n",
              "                                                                 with_mean=True,\n",
              "                                                                 with_std=True),\n",
              "                                                  [0, 2, 3, 16, 17, 18, 19, 25,\n",
              "                                                   33, 35, 36, 37, 42, 43, 44,\n",
              "                                                   45, 46, 47, 48, 49, 50, 51,\n",
              "                                                   53, 55, 58, 60, 61, 65, 66,\n",
              "                                                   67, ...]),\n",
              "                                                 ('encode',\n",
              "                                                  OneHotEncoder(categories='auto',...\n",
              "                                                                dtype=<class 'numpy.float64'>,\n",
              "                                                                handle_unknown='error',\n",
              "                                                                sparse=True),\n",
              "                                                  [1, 4, 5, 6, 7, 8, 9, 10, 11,\n",
              "                                                   12, 13, 14, 15, 20, 21, 22,\n",
              "                                                   23, 24, 26, 27, 28, 29, 30,\n",
              "                                                   31, 32, 34, 38, 39, 40, 41, ...])],\n",
              "                                   verbose=False)),\n",
              "                ('l',\n",
              "                 Lasso(alpha=1.0, copy_X=True, fit_intercept=True,\n",
              "                       max_iter=1000, normalize=False, positive=False,\n",
              "                       precompute=False, random_state=None, selection='cyclic',\n",
              "                       tol=0.0001, warm_start=False))],\n",
              "         verbose=False)"
            ]
          },
          "metadata": {},
          "execution_count": 674
        }
      ],
      "metadata": {
        "colab": {
          "base_uri": "https://localhost:8080/"
        },
        "id": "rwH-ulLnu0Lu",
        "outputId": "f4e20ef2-fcf2-4c5e-d2e2-c2ab48bfef88"
      }
    },
    {
      "cell_type": "code",
      "execution_count": 673,
      "source": [
        "# Получите скор по нашей метрике (RMSE) ниже значения 30000\n",
        "# TO DO\n",
        "y_pred = lasso_pipeline.predict(X_train)\n",
        "RMSE(y_train, y_pred)\n"
      ],
      "outputs": [
        {
          "output_type": "execute_result",
          "data": {
            "text/plain": [
              "0.3083921188612184"
            ]
          },
          "metadata": {},
          "execution_count": 673
        }
      ],
      "metadata": {
        "colab": {
          "base_uri": "https://localhost:8080/"
        },
        "id": "wfeJEOBOf_AR",
        "outputId": "a5dd7e71-0efb-4cde-b520-ca14347c56c8"
      }
    }
  ]
}