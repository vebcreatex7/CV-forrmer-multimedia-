{
  "nbformat": 4,
  "nbformat_minor": 5,
  "metadata": {
    "kernelspec": {
      "name": "python3",
      "display_name": "Python 3.8.10 64-bit"
    },
    "language_info": {
      "codemirror_mode": {
        "name": "ipython",
        "version": 3
      },
      "file_extension": ".py",
      "mimetype": "text/x-python",
      "name": "python",
      "nbconvert_exporter": "python",
      "pygments_lexer": "ipython3",
      "version": "3.8.10"
    },
    "interpreter": {
      "hash": "31f2aee4e71d21fbe5cf8b01ff0e069b9275f58929596ceb00d14d90e3e16cd6"
    },
    "colab": {
      "name": "Вахрамян К.О.ipynb",
      "provenance": [],
      "collapsed_sections": []
    }
  },
  "cells": [
    {
      "cell_type": "code",
      "metadata": {
        "id": "YKJ83pr8XsJ6"
      },
      "source": [
        "import numpy as np\n",
        "import pandas as pd\n",
        "import matplotlib as plt\n",
        "import seaborn as sns\n",
        "from sklearn.model_selection import train_test_split\n",
        "from sklearn.preprocessing import StandardScaler, MinMaxScaler\n",
        "import matplotlib.pyplot as plt"
      ],
      "id": "YKJ83pr8XsJ6",
      "execution_count": 9,
      "outputs": []
    },
    {
      "cell_type": "code",
      "metadata": {
        "id": "5FNf05emXsJ-"
      },
      "source": [
        "# 1. Выбрать задачу (классификация или регрессия), датасет (пересечений не должно быть - у каждого студента свой датасет) и метрику качества"
      ],
      "id": "5FNf05emXsJ-",
      "execution_count": 8,
      "outputs": []
    },
    {
      "cell_type": "markdown",
      "metadata": {
        "id": "_l4FnziuXsJ_"
      },
      "source": [
        "Будем решать задачу регрессии. Необходимо предсказать цену на подержанный в атомобиль марки Mercedes-Benz в Великобритании.\\\n",
        "В качестве метрики используем R2."
      ],
      "id": "_l4FnziuXsJ_"
    },
    {
      "cell_type": "code",
      "metadata": {
        "colab": {
          "base_uri": "https://localhost:8080/",
          "height": 221
        },
        "id": "mXRQyKvwXsKA",
        "outputId": "512bd077-9116-455a-8855-fa47ed163b40"
      },
      "source": [
        "df = pd.read_csv('merc.csv')\n",
        "print(df.shape)\n",
        "df.head()"
      ],
      "id": "mXRQyKvwXsKA",
      "execution_count": 10,
      "outputs": [
        {
          "output_type": "stream",
          "name": "stdout",
          "text": [
            "(13119, 9)\n"
          ]
        },
        {
          "output_type": "execute_result",
          "data": {
            "text/html": [
              "\n",
              "  <div id=\"df-79efecc4-91ac-4525-a9b0-1c4f88a19d17\">\n",
              "    <div class=\"colab-df-container\">\n",
              "      <div>\n",
              "<style scoped>\n",
              "    .dataframe tbody tr th:only-of-type {\n",
              "        vertical-align: middle;\n",
              "    }\n",
              "\n",
              "    .dataframe tbody tr th {\n",
              "        vertical-align: top;\n",
              "    }\n",
              "\n",
              "    .dataframe thead th {\n",
              "        text-align: right;\n",
              "    }\n",
              "</style>\n",
              "<table border=\"1\" class=\"dataframe\">\n",
              "  <thead>\n",
              "    <tr style=\"text-align: right;\">\n",
              "      <th></th>\n",
              "      <th>model</th>\n",
              "      <th>year</th>\n",
              "      <th>price</th>\n",
              "      <th>transmission</th>\n",
              "      <th>mileage</th>\n",
              "      <th>fuelType</th>\n",
              "      <th>tax</th>\n",
              "      <th>mpg</th>\n",
              "      <th>engineSize</th>\n",
              "    </tr>\n",
              "  </thead>\n",
              "  <tbody>\n",
              "    <tr>\n",
              "      <th>0</th>\n",
              "      <td>SLK</td>\n",
              "      <td>2005</td>\n",
              "      <td>5200</td>\n",
              "      <td>Automatic</td>\n",
              "      <td>63000</td>\n",
              "      <td>Petrol</td>\n",
              "      <td>325</td>\n",
              "      <td>32.1</td>\n",
              "      <td>1.8</td>\n",
              "    </tr>\n",
              "    <tr>\n",
              "      <th>1</th>\n",
              "      <td>S Class</td>\n",
              "      <td>2017</td>\n",
              "      <td>34948</td>\n",
              "      <td>Automatic</td>\n",
              "      <td>27000</td>\n",
              "      <td>Hybrid</td>\n",
              "      <td>20</td>\n",
              "      <td>61.4</td>\n",
              "      <td>2.1</td>\n",
              "    </tr>\n",
              "    <tr>\n",
              "      <th>2</th>\n",
              "      <td>SL CLASS</td>\n",
              "      <td>2016</td>\n",
              "      <td>49948</td>\n",
              "      <td>Automatic</td>\n",
              "      <td>6200</td>\n",
              "      <td>Petrol</td>\n",
              "      <td>555</td>\n",
              "      <td>28.0</td>\n",
              "      <td>5.5</td>\n",
              "    </tr>\n",
              "    <tr>\n",
              "      <th>3</th>\n",
              "      <td>G Class</td>\n",
              "      <td>2016</td>\n",
              "      <td>61948</td>\n",
              "      <td>Automatic</td>\n",
              "      <td>16000</td>\n",
              "      <td>Petrol</td>\n",
              "      <td>325</td>\n",
              "      <td>30.4</td>\n",
              "      <td>4.0</td>\n",
              "    </tr>\n",
              "    <tr>\n",
              "      <th>4</th>\n",
              "      <td>G Class</td>\n",
              "      <td>2016</td>\n",
              "      <td>73948</td>\n",
              "      <td>Automatic</td>\n",
              "      <td>4000</td>\n",
              "      <td>Petrol</td>\n",
              "      <td>325</td>\n",
              "      <td>30.1</td>\n",
              "      <td>4.0</td>\n",
              "    </tr>\n",
              "  </tbody>\n",
              "</table>\n",
              "</div>\n",
              "      <button class=\"colab-df-convert\" onclick=\"convertToInteractive('df-79efecc4-91ac-4525-a9b0-1c4f88a19d17')\"\n",
              "              title=\"Convert this dataframe to an interactive table.\"\n",
              "              style=\"display:none;\">\n",
              "        \n",
              "  <svg xmlns=\"http://www.w3.org/2000/svg\" height=\"24px\"viewBox=\"0 0 24 24\"\n",
              "       width=\"24px\">\n",
              "    <path d=\"M0 0h24v24H0V0z\" fill=\"none\"/>\n",
              "    <path d=\"M18.56 5.44l.94 2.06.94-2.06 2.06-.94-2.06-.94-.94-2.06-.94 2.06-2.06.94zm-11 1L8.5 8.5l.94-2.06 2.06-.94-2.06-.94L8.5 2.5l-.94 2.06-2.06.94zm10 10l.94 2.06.94-2.06 2.06-.94-2.06-.94-.94-2.06-.94 2.06-2.06.94z\"/><path d=\"M17.41 7.96l-1.37-1.37c-.4-.4-.92-.59-1.43-.59-.52 0-1.04.2-1.43.59L10.3 9.45l-7.72 7.72c-.78.78-.78 2.05 0 2.83L4 21.41c.39.39.9.59 1.41.59.51 0 1.02-.2 1.41-.59l7.78-7.78 2.81-2.81c.8-.78.8-2.07 0-2.86zM5.41 20L4 18.59l7.72-7.72 1.47 1.35L5.41 20z\"/>\n",
              "  </svg>\n",
              "      </button>\n",
              "      \n",
              "  <style>\n",
              "    .colab-df-container {\n",
              "      display:flex;\n",
              "      flex-wrap:wrap;\n",
              "      gap: 12px;\n",
              "    }\n",
              "\n",
              "    .colab-df-convert {\n",
              "      background-color: #E8F0FE;\n",
              "      border: none;\n",
              "      border-radius: 50%;\n",
              "      cursor: pointer;\n",
              "      display: none;\n",
              "      fill: #1967D2;\n",
              "      height: 32px;\n",
              "      padding: 0 0 0 0;\n",
              "      width: 32px;\n",
              "    }\n",
              "\n",
              "    .colab-df-convert:hover {\n",
              "      background-color: #E2EBFA;\n",
              "      box-shadow: 0px 1px 2px rgba(60, 64, 67, 0.3), 0px 1px 3px 1px rgba(60, 64, 67, 0.15);\n",
              "      fill: #174EA6;\n",
              "    }\n",
              "\n",
              "    [theme=dark] .colab-df-convert {\n",
              "      background-color: #3B4455;\n",
              "      fill: #D2E3FC;\n",
              "    }\n",
              "\n",
              "    [theme=dark] .colab-df-convert:hover {\n",
              "      background-color: #434B5C;\n",
              "      box-shadow: 0px 1px 3px 1px rgba(0, 0, 0, 0.15);\n",
              "      filter: drop-shadow(0px 1px 2px rgba(0, 0, 0, 0.3));\n",
              "      fill: #FFFFFF;\n",
              "    }\n",
              "  </style>\n",
              "\n",
              "      <script>\n",
              "        const buttonEl =\n",
              "          document.querySelector('#df-79efecc4-91ac-4525-a9b0-1c4f88a19d17 button.colab-df-convert');\n",
              "        buttonEl.style.display =\n",
              "          google.colab.kernel.accessAllowed ? 'block' : 'none';\n",
              "\n",
              "        async function convertToInteractive(key) {\n",
              "          const element = document.querySelector('#df-79efecc4-91ac-4525-a9b0-1c4f88a19d17');\n",
              "          const dataTable =\n",
              "            await google.colab.kernel.invokeFunction('convertToInteractive',\n",
              "                                                     [key], {});\n",
              "          if (!dataTable) return;\n",
              "\n",
              "          const docLinkHtml = 'Like what you see? Visit the ' +\n",
              "            '<a target=\"_blank\" href=https://colab.research.google.com/notebooks/data_table.ipynb>data table notebook</a>'\n",
              "            + ' to learn more about interactive tables.';\n",
              "          element.innerHTML = '';\n",
              "          dataTable['output_type'] = 'display_data';\n",
              "          await google.colab.output.renderOutput(dataTable, element);\n",
              "          const docLink = document.createElement('div');\n",
              "          docLink.innerHTML = docLinkHtml;\n",
              "          element.appendChild(docLink);\n",
              "        }\n",
              "      </script>\n",
              "    </div>\n",
              "  </div>\n",
              "  "
            ],
            "text/plain": [
              "       model  year  price transmission  mileage fuelType  tax   mpg  engineSize\n",
              "0        SLK  2005   5200    Automatic    63000   Petrol  325  32.1         1.8\n",
              "1    S Class  2017  34948    Automatic    27000   Hybrid   20  61.4         2.1\n",
              "2   SL CLASS  2016  49948    Automatic     6200   Petrol  555  28.0         5.5\n",
              "3    G Class  2016  61948    Automatic    16000   Petrol  325  30.4         4.0\n",
              "4    G Class  2016  73948    Automatic     4000   Petrol  325  30.1         4.0"
            ]
          },
          "metadata": {},
          "execution_count": 10
        }
      ]
    },
    {
      "cell_type": "markdown",
      "metadata": {
        "id": "LOFlKt3zXsKB"
      },
      "source": [
        "Проверим датасет на наличие пропусков."
      ],
      "id": "LOFlKt3zXsKB"
    },
    {
      "cell_type": "code",
      "metadata": {
        "colab": {
          "base_uri": "https://localhost:8080/"
        },
        "id": "c00VWwFHXsKC",
        "outputId": "f985a6e2-a37c-4c2e-b1fb-9a4140d22cd2"
      },
      "source": [
        "df.isna().sum()"
      ],
      "id": "c00VWwFHXsKC",
      "execution_count": 11,
      "outputs": [
        {
          "output_type": "execute_result",
          "data": {
            "text/plain": [
              "model           0\n",
              "year            0\n",
              "price           0\n",
              "transmission    0\n",
              "mileage         0\n",
              "fuelType        0\n",
              "tax             0\n",
              "mpg             0\n",
              "engineSize      0\n",
              "dtype: int64"
            ]
          },
          "metadata": {},
          "execution_count": 11
        }
      ]
    },
    {
      "cell_type": "code",
      "metadata": {
        "id": "lmLh3XAiXsKC"
      },
      "source": [
        "# 2*. Посчитать различные статистики, визуализировать данные и сделать первичные выводы \\\\ разрешается использование любых пакетов"
      ],
      "id": "lmLh3XAiXsKC",
      "execution_count": 12,
      "outputs": []
    },
    {
      "cell_type": "code",
      "metadata": {
        "colab": {
          "base_uri": "https://localhost:8080/",
          "height": 297
        },
        "id": "YwBUwnpPXsKD",
        "outputId": "a11500f0-3ec5-4ed6-cd0b-e789f7a9e7a0"
      },
      "source": [
        "df.describe()"
      ],
      "id": "YwBUwnpPXsKD",
      "execution_count": 13,
      "outputs": [
        {
          "output_type": "execute_result",
          "data": {
            "text/html": [
              "\n",
              "  <div id=\"df-48877590-aa6a-4f72-adc3-e25073bf8979\">\n",
              "    <div class=\"colab-df-container\">\n",
              "      <div>\n",
              "<style scoped>\n",
              "    .dataframe tbody tr th:only-of-type {\n",
              "        vertical-align: middle;\n",
              "    }\n",
              "\n",
              "    .dataframe tbody tr th {\n",
              "        vertical-align: top;\n",
              "    }\n",
              "\n",
              "    .dataframe thead th {\n",
              "        text-align: right;\n",
              "    }\n",
              "</style>\n",
              "<table border=\"1\" class=\"dataframe\">\n",
              "  <thead>\n",
              "    <tr style=\"text-align: right;\">\n",
              "      <th></th>\n",
              "      <th>year</th>\n",
              "      <th>price</th>\n",
              "      <th>mileage</th>\n",
              "      <th>tax</th>\n",
              "      <th>mpg</th>\n",
              "      <th>engineSize</th>\n",
              "    </tr>\n",
              "  </thead>\n",
              "  <tbody>\n",
              "    <tr>\n",
              "      <th>count</th>\n",
              "      <td>13119.000000</td>\n",
              "      <td>13119.000000</td>\n",
              "      <td>13119.000000</td>\n",
              "      <td>13119.000000</td>\n",
              "      <td>13119.000000</td>\n",
              "      <td>13119.000000</td>\n",
              "    </tr>\n",
              "    <tr>\n",
              "      <th>mean</th>\n",
              "      <td>2017.296288</td>\n",
              "      <td>24698.596920</td>\n",
              "      <td>21949.559037</td>\n",
              "      <td>129.972178</td>\n",
              "      <td>55.155843</td>\n",
              "      <td>2.071530</td>\n",
              "    </tr>\n",
              "    <tr>\n",
              "      <th>std</th>\n",
              "      <td>2.224709</td>\n",
              "      <td>11842.675542</td>\n",
              "      <td>21176.512267</td>\n",
              "      <td>65.260286</td>\n",
              "      <td>15.220082</td>\n",
              "      <td>0.572426</td>\n",
              "    </tr>\n",
              "    <tr>\n",
              "      <th>min</th>\n",
              "      <td>1970.000000</td>\n",
              "      <td>650.000000</td>\n",
              "      <td>1.000000</td>\n",
              "      <td>0.000000</td>\n",
              "      <td>1.100000</td>\n",
              "      <td>0.000000</td>\n",
              "    </tr>\n",
              "    <tr>\n",
              "      <th>25%</th>\n",
              "      <td>2016.000000</td>\n",
              "      <td>17450.000000</td>\n",
              "      <td>6097.500000</td>\n",
              "      <td>125.000000</td>\n",
              "      <td>45.600000</td>\n",
              "      <td>1.800000</td>\n",
              "    </tr>\n",
              "    <tr>\n",
              "      <th>50%</th>\n",
              "      <td>2018.000000</td>\n",
              "      <td>22480.000000</td>\n",
              "      <td>15189.000000</td>\n",
              "      <td>145.000000</td>\n",
              "      <td>56.500000</td>\n",
              "      <td>2.000000</td>\n",
              "    </tr>\n",
              "    <tr>\n",
              "      <th>75%</th>\n",
              "      <td>2019.000000</td>\n",
              "      <td>28980.000000</td>\n",
              "      <td>31779.500000</td>\n",
              "      <td>145.000000</td>\n",
              "      <td>64.200000</td>\n",
              "      <td>2.100000</td>\n",
              "    </tr>\n",
              "    <tr>\n",
              "      <th>max</th>\n",
              "      <td>2020.000000</td>\n",
              "      <td>159999.000000</td>\n",
              "      <td>259000.000000</td>\n",
              "      <td>580.000000</td>\n",
              "      <td>217.300000</td>\n",
              "      <td>6.200000</td>\n",
              "    </tr>\n",
              "  </tbody>\n",
              "</table>\n",
              "</div>\n",
              "      <button class=\"colab-df-convert\" onclick=\"convertToInteractive('df-48877590-aa6a-4f72-adc3-e25073bf8979')\"\n",
              "              title=\"Convert this dataframe to an interactive table.\"\n",
              "              style=\"display:none;\">\n",
              "        \n",
              "  <svg xmlns=\"http://www.w3.org/2000/svg\" height=\"24px\"viewBox=\"0 0 24 24\"\n",
              "       width=\"24px\">\n",
              "    <path d=\"M0 0h24v24H0V0z\" fill=\"none\"/>\n",
              "    <path d=\"M18.56 5.44l.94 2.06.94-2.06 2.06-.94-2.06-.94-.94-2.06-.94 2.06-2.06.94zm-11 1L8.5 8.5l.94-2.06 2.06-.94-2.06-.94L8.5 2.5l-.94 2.06-2.06.94zm10 10l.94 2.06.94-2.06 2.06-.94-2.06-.94-.94-2.06-.94 2.06-2.06.94z\"/><path d=\"M17.41 7.96l-1.37-1.37c-.4-.4-.92-.59-1.43-.59-.52 0-1.04.2-1.43.59L10.3 9.45l-7.72 7.72c-.78.78-.78 2.05 0 2.83L4 21.41c.39.39.9.59 1.41.59.51 0 1.02-.2 1.41-.59l7.78-7.78 2.81-2.81c.8-.78.8-2.07 0-2.86zM5.41 20L4 18.59l7.72-7.72 1.47 1.35L5.41 20z\"/>\n",
              "  </svg>\n",
              "      </button>\n",
              "      \n",
              "  <style>\n",
              "    .colab-df-container {\n",
              "      display:flex;\n",
              "      flex-wrap:wrap;\n",
              "      gap: 12px;\n",
              "    }\n",
              "\n",
              "    .colab-df-convert {\n",
              "      background-color: #E8F0FE;\n",
              "      border: none;\n",
              "      border-radius: 50%;\n",
              "      cursor: pointer;\n",
              "      display: none;\n",
              "      fill: #1967D2;\n",
              "      height: 32px;\n",
              "      padding: 0 0 0 0;\n",
              "      width: 32px;\n",
              "    }\n",
              "\n",
              "    .colab-df-convert:hover {\n",
              "      background-color: #E2EBFA;\n",
              "      box-shadow: 0px 1px 2px rgba(60, 64, 67, 0.3), 0px 1px 3px 1px rgba(60, 64, 67, 0.15);\n",
              "      fill: #174EA6;\n",
              "    }\n",
              "\n",
              "    [theme=dark] .colab-df-convert {\n",
              "      background-color: #3B4455;\n",
              "      fill: #D2E3FC;\n",
              "    }\n",
              "\n",
              "    [theme=dark] .colab-df-convert:hover {\n",
              "      background-color: #434B5C;\n",
              "      box-shadow: 0px 1px 3px 1px rgba(0, 0, 0, 0.15);\n",
              "      filter: drop-shadow(0px 1px 2px rgba(0, 0, 0, 0.3));\n",
              "      fill: #FFFFFF;\n",
              "    }\n",
              "  </style>\n",
              "\n",
              "      <script>\n",
              "        const buttonEl =\n",
              "          document.querySelector('#df-48877590-aa6a-4f72-adc3-e25073bf8979 button.colab-df-convert');\n",
              "        buttonEl.style.display =\n",
              "          google.colab.kernel.accessAllowed ? 'block' : 'none';\n",
              "\n",
              "        async function convertToInteractive(key) {\n",
              "          const element = document.querySelector('#df-48877590-aa6a-4f72-adc3-e25073bf8979');\n",
              "          const dataTable =\n",
              "            await google.colab.kernel.invokeFunction('convertToInteractive',\n",
              "                                                     [key], {});\n",
              "          if (!dataTable) return;\n",
              "\n",
              "          const docLinkHtml = 'Like what you see? Visit the ' +\n",
              "            '<a target=\"_blank\" href=https://colab.research.google.com/notebooks/data_table.ipynb>data table notebook</a>'\n",
              "            + ' to learn more about interactive tables.';\n",
              "          element.innerHTML = '';\n",
              "          dataTable['output_type'] = 'display_data';\n",
              "          await google.colab.output.renderOutput(dataTable, element);\n",
              "          const docLink = document.createElement('div');\n",
              "          docLink.innerHTML = docLinkHtml;\n",
              "          element.appendChild(docLink);\n",
              "        }\n",
              "      </script>\n",
              "    </div>\n",
              "  </div>\n",
              "  "
            ],
            "text/plain": [
              "               year          price  ...           mpg    engineSize\n",
              "count  13119.000000   13119.000000  ...  13119.000000  13119.000000\n",
              "mean    2017.296288   24698.596920  ...     55.155843      2.071530\n",
              "std        2.224709   11842.675542  ...     15.220082      0.572426\n",
              "min     1970.000000     650.000000  ...      1.100000      0.000000\n",
              "25%     2016.000000   17450.000000  ...     45.600000      1.800000\n",
              "50%     2018.000000   22480.000000  ...     56.500000      2.000000\n",
              "75%     2019.000000   28980.000000  ...     64.200000      2.100000\n",
              "max     2020.000000  159999.000000  ...    217.300000      6.200000\n",
              "\n",
              "[8 rows x 6 columns]"
            ]
          },
          "metadata": {},
          "execution_count": 13
        }
      ]
    },
    {
      "cell_type": "code",
      "metadata": {
        "colab": {
          "base_uri": "https://localhost:8080/",
          "height": 356
        },
        "id": "FcQdFTsHXsKD",
        "outputId": "8cb17fe2-d889-4e88-e7b0-e086e8771ac9"
      },
      "source": [
        "sns.set(rc={'figure.figsize':(6,4)})\n",
        "sns.countplot(df['fuelType'])"
      ],
      "id": "FcQdFTsHXsKD",
      "execution_count": 14,
      "outputs": [
        {
          "output_type": "stream",
          "name": "stderr",
          "text": [
            "/usr/local/lib/python3.7/dist-packages/seaborn/_decorators.py:43: FutureWarning: Pass the following variable as a keyword arg: x. From version 0.12, the only valid positional argument will be `data`, and passing other arguments without an explicit keyword will result in an error or misinterpretation.\n",
            "  FutureWarning\n"
          ]
        },
        {
          "output_type": "execute_result",
          "data": {
            "text/plain": [
              "<matplotlib.axes._subplots.AxesSubplot at 0x7fb47a21bb90>"
            ]
          },
          "metadata": {},
          "execution_count": 14
        },
        {
          "output_type": "display_data",
          "data": {
            "image/png": "[encoded data removed]",
            "text/plain": [
              "<Figure size 432x288 with 1 Axes>"
            ]
          },
          "metadata": {}
        }
      ]
    },
    {
      "cell_type": "code",
      "metadata": {
        "colab": {
          "base_uri": "https://localhost:8080/",
          "height": 356
        },
        "id": "H611QdI7XsKE",
        "outputId": "b72f386a-9da1-458d-f768-9a0c05b9b31b"
      },
      "source": [
        "sns.set(rc={'figure.figsize':(6,4)})\n",
        "sns.countplot(df['transmission'])"
      ],
      "id": "H611QdI7XsKE",
      "execution_count": 15,
      "outputs": [
        {
          "output_type": "stream",
          "name": "stderr",
          "text": [
            "/usr/local/lib/python3.7/dist-packages/seaborn/_decorators.py:43: FutureWarning: Pass the following variable as a keyword arg: x. From version 0.12, the only valid positional argument will be `data`, and passing other arguments without an explicit keyword will result in an error or misinterpretation.\n",
            "  FutureWarning\n"
          ]
        },
        {
          "output_type": "execute_result",
          "data": {
            "text/plain": [
              "<matplotlib.axes._subplots.AxesSubplot at 0x7fb47a0d0890>"
            ]
          },
          "metadata": {},
          "execution_count": 15
        },
        {
          "output_type": "display_data",
          "data": {
            "image/png": "[encoded data removed]",
            "text/plain": [
              "<Figure size 432x288 with 1 Axes>"
            ]
          },
          "metadata": {}
        }
      ]
    },
    {
      "cell_type": "markdown",
      "metadata": {
        "id": "iXkwPJ8vXsKE"
      },
      "source": [
        "Большинство машин с автоматической и полуавтоматической КПП."
      ],
      "id": "iXkwPJ8vXsKE"
    },
    {
      "cell_type": "code",
      "metadata": {
        "colab": {
          "base_uri": "https://localhost:8080/"
        },
        "id": "jH95CI4ZXsKF",
        "outputId": "5074d88c-4535-4ff9-debd-e382c29bc708"
      },
      "source": [
        "df['transmission'].value_counts()"
      ],
      "id": "jH95CI4ZXsKF",
      "execution_count": 16,
      "outputs": [
        {
          "output_type": "execute_result",
          "data": {
            "text/plain": [
              "Semi-Auto    6848\n",
              "Automatic    4825\n",
              "Manual       1444\n",
              "Other           2\n",
              "Name: transmission, dtype: int64"
            ]
          },
          "metadata": {},
          "execution_count": 16
        }
      ]
    },
    {
      "cell_type": "markdown",
      "metadata": {
        "id": "tPKiAPD7XsKF"
      },
      "source": [
        "Постмотрим на распределение моделий автоболией."
      ],
      "id": "tPKiAPD7XsKF"
    },
    {
      "cell_type": "code",
      "metadata": {
        "colab": {
          "base_uri": "https://localhost:8080/",
          "height": 1000
        },
        "id": "Q2oP9N-6XsKF",
        "outputId": "9dfde6e2-510f-40f5-feb1-82a3b34c849e"
      },
      "source": [
        "print(df['model'].value_counts() / df.shape[0])\n",
        "sns.set(rc={'figure.figsize':(10,10)})\n",
        "sns.countplot(y = df['model'])"
      ],
      "id": "Q2oP9N-6XsKF",
      "execution_count": 17,
      "outputs": [
        {
          "output_type": "stream",
          "name": "stdout",
          "text": [
            " C Class      0.285616\n",
            " A Class      0.195213\n",
            " E Class      0.148868\n",
            " GLC Class    0.073176\n",
            " GLA Class    0.064563\n",
            " B Class      0.045049\n",
            " CL Class     0.038951\n",
            " GLE Class    0.035140\n",
            " SL CLASS     0.019819\n",
            " CLS Class    0.018065\n",
            " V Class      0.015779\n",
            " S Class      0.015016\n",
            " GL Class     0.009223\n",
            " SLK          0.007241\n",
            " CLA Class    0.006555\n",
            " X-CLASS      0.006250\n",
            " M Class      0.006022\n",
            " GLS Class    0.005641\n",
            " GLB Class    0.001448\n",
            " G Class      0.001143\n",
            " CLK          0.000534\n",
            " CLC Class    0.000229\n",
            " R Class      0.000152\n",
            "200           0.000076\n",
            "230           0.000076\n",
            "180           0.000076\n",
            "220           0.000076\n",
            "Name: model, dtype: float64\n"
          ]
        },
        {
          "output_type": "execute_result",
          "data": {
            "text/plain": [
              "<matplotlib.axes._subplots.AxesSubplot at 0x7fb47890c0d0>"
            ]
          },
          "metadata": {},
          "execution_count": 17
        },
        {
          "output_type": "display_data",
          "data": {
            "image/png": "[encoded data removed]",
            "text/plain": [
              "<Figure size 720x720 with 1 Axes>"
            ]
          },
          "metadata": {}
        }
      ]
    },
    {
      "cell_type": "markdown",
      "metadata": {
        "id": "rizQ1J_LXsKG"
      },
      "source": [
        "Самые популярные - C,A,E Class."
      ],
      "id": "rizQ1J_LXsKG"
    },
    {
      "cell_type": "markdown",
      "metadata": {
        "id": "Yi8m_qaDXsKG"
      },
      "source": [
        "Также визуализируем распределение года выпуска автомобилей."
      ],
      "id": "Yi8m_qaDXsKG"
    },
    {
      "cell_type": "code",
      "metadata": {
        "colab": {
          "base_uri": "https://localhost:8080/",
          "height": 628
        },
        "id": "1-EcMYd4XsKG",
        "outputId": "891dcb6b-a3a2-4b00-d5d6-15d995019146"
      },
      "source": [
        "sns.set(rc={'figure.figsize':(10,10)})\n",
        "sns.countplot(y = df['year'])"
      ],
      "id": "1-EcMYd4XsKG",
      "execution_count": 18,
      "outputs": [
        {
          "output_type": "execute_result",
          "data": {
            "text/plain": [
              "<matplotlib.axes._subplots.AxesSubplot at 0x7fb478874f50>"
            ]
          },
          "metadata": {},
          "execution_count": 18
        },
        {
          "output_type": "display_data",
          "data": {
            "image/png": "[encoded data removed]",
            "text/plain": [
              "<Figure size 720x720 with 1 Axes>"
            ]
          },
          "metadata": {}
        }
      ]
    },
    {
      "cell_type": "markdown",
      "metadata": {
        "id": "xYY29SRnXsKG"
      },
      "source": [
        "Посмотрим на зависимость цены автомобиля от года выпуска."
      ],
      "id": "xYY29SRnXsKG"
    },
    {
      "cell_type": "code",
      "metadata": {
        "colab": {
          "base_uri": "https://localhost:8080/",
          "height": 454
        },
        "id": "clgW9sC2XsKH",
        "outputId": "48d73863-041a-43eb-fb59-cd954dbeed5a"
      },
      "source": [
        "\n",
        "sns.set(rc={'figure.figsize':(16,8)})\n",
        "sns.barplot(x=df['year'], y=df['price'])"
      ],
      "id": "clgW9sC2XsKH",
      "execution_count": 19,
      "outputs": [
        {
          "output_type": "execute_result",
          "data": {
            "text/plain": [
              "<matplotlib.axes._subplots.AxesSubplot at 0x7fb4787c7f90>"
            ]
          },
          "metadata": {},
          "execution_count": 19
        },
        {
          "output_type": "display_data",
          "data": {
            "image/png": "[encoded data removed]",
            "text/plain": [
              "<Figure size 1152x576 with 1 Axes>"
            ]
          },
          "metadata": {}
        }
      ]
    },
    {
      "cell_type": "markdown",
      "metadata": {
        "id": "ma6FNyfjXsKH"
      },
      "source": [
        "Видим, что в среднем, чем новее машина тем дороже. Однако, если идти по временному ряду назад, то выбросы становятся все больше. Это обусловленно тем, что за такой большой период сложно сохранить автомобиль и, чем лучше у него состояние, тем он дороже."
      ],
      "id": "ma6FNyfjXsKH"
    },
    {
      "cell_type": "markdown",
      "metadata": {
        "id": "R9XPkhlvXsKH"
      },
      "source": [
        "Зависимость цены от пробега при данной КПП"
      ],
      "id": "R9XPkhlvXsKH"
    },
    {
      "cell_type": "code",
      "metadata": {
        "colab": {
          "base_uri": "https://localhost:8080/",
          "height": 451
        },
        "id": "XSYPnUjkXsKH",
        "outputId": "dcdd2438-485a-4ab8-b495-2a1931ab1410"
      },
      "source": [
        "sns.scatterplot(x=df['mileage'], y=df['price'], hue=df['transmission'])"
      ],
      "id": "XSYPnUjkXsKH",
      "execution_count": 20,
      "outputs": [
        {
          "output_type": "execute_result",
          "data": {
            "text/plain": [
              "<matplotlib.axes._subplots.AxesSubplot at 0x7fb478651150>"
            ]
          },
          "metadata": {},
          "execution_count": 20
        },
        {
          "output_type": "display_data",
          "data": {
            "image/png": "[encoded data removed]",
            "text/plain": [
              "<Figure size 1152x576 with 1 Axes>"
            ]
          },
          "metadata": {}
        }
      ]
    },
    {
      "cell_type": "markdown",
      "metadata": {
        "id": "Ao8x9jl3XsKH"
      },
      "source": [
        "Чем меньше пробег, тем машина дороже. Также механическая КПП показатель более низкой цены, а полуавтоматическая - более высокой."
      ],
      "id": "Ao8x9jl3XsKH"
    },
    {
      "cell_type": "code",
      "metadata": {
        "id": "8sg-Ju26XsKI"
      },
      "source": [
        "# 2. Сделать препроцессинг, фичеинжинириг и т.д. \\\\ разрешается использование любых пакетов"
      ],
      "id": "8sg-Ju26XsKI",
      "execution_count": 21,
      "outputs": []
    },
    {
      "cell_type": "code",
      "metadata": {
        "colab": {
          "base_uri": "https://localhost:8080/"
        },
        "id": "I5li6MH4XsKI",
        "outputId": "e6e580d2-7697-4974-fa99-91293e513fb5"
      },
      "source": [
        "df.dtypes"
      ],
      "id": "I5li6MH4XsKI",
      "execution_count": 22,
      "outputs": [
        {
          "output_type": "execute_result",
          "data": {
            "text/plain": [
              "model            object\n",
              "year              int64\n",
              "price             int64\n",
              "transmission     object\n",
              "mileage           int64\n",
              "fuelType         object\n",
              "tax               int64\n",
              "mpg             float64\n",
              "engineSize      float64\n",
              "dtype: object"
            ]
          },
          "metadata": {},
          "execution_count": 22
        }
      ]
    },
    {
      "cell_type": "markdown",
      "metadata": {
        "id": "WrYBe4s8XsKI"
      },
      "source": [
        "Преобразуем строковые объекты в числовые."
      ],
      "id": "WrYBe4s8XsKI"
    },
    {
      "cell_type": "code",
      "metadata": {
        "id": "Ff7vtaafXsKI"
      },
      "source": [
        "#df['fuelType'].unique()"
      ],
      "id": "Ff7vtaafXsKI",
      "execution_count": 23,
      "outputs": []
    },
    {
      "cell_type": "code",
      "metadata": {
        "id": "YkEdexYrXsKI"
      },
      "source": [
        "#fuel = {'Petrol':0, 'Hybrid':1, 'Diesel':2, 'Other':3}\n",
        "#df = df.replace({'fuelType' : fuel})"
      ],
      "id": "YkEdexYrXsKI",
      "execution_count": 24,
      "outputs": []
    },
    {
      "cell_type": "code",
      "metadata": {
        "id": "dQRgMPewXsKI"
      },
      "source": [
        "#df['transmission'].unique()"
      ],
      "id": "dQRgMPewXsKI",
      "execution_count": 25,
      "outputs": []
    },
    {
      "cell_type": "code",
      "metadata": {
        "id": "xQ7j-dzjXsKJ"
      },
      "source": [
        "#transmission = {'Automatic':0, 'Manual':1, 'Semi-Auto':2, 'Other':3}\n",
        "#df = df.replace({'transmission':transmission})"
      ],
      "id": "xQ7j-dzjXsKJ",
      "execution_count": 26,
      "outputs": []
    },
    {
      "cell_type": "code",
      "metadata": {
        "id": "C4Bd8gOYXsKJ"
      },
      "source": [
        "df_expanded = pd.get_dummies(df)"
      ],
      "id": "C4Bd8gOYXsKJ",
      "execution_count": 27,
      "outputs": []
    },
    {
      "cell_type": "code",
      "metadata": {
        "colab": {
          "base_uri": "https://localhost:8080/",
          "height": 319
        },
        "id": "VY6oSUjUXsKJ",
        "outputId": "fa17df76-d399-4cce-d1f8-7d511b847a02"
      },
      "source": [
        "print(df_expanded.shape)\n",
        "df_expanded.head()"
      ],
      "id": "VY6oSUjUXsKJ",
      "execution_count": 28,
      "outputs": [
        {
          "output_type": "stream",
          "name": "stdout",
          "text": [
            "(13119, 41)\n"
          ]
        },
        {
          "output_type": "execute_result",
          "data": {
            "text/html": [
              "\n",
              "  <div id=\"df-d5644d8f-354d-49db-9b5b-a73f561ac402\">\n",
              "    <div class=\"colab-df-container\">\n",
              "      <div>\n",
              "<style scoped>\n",
              "    .dataframe tbody tr th:only-of-type {\n",
              "        vertical-align: middle;\n",
              "    }\n",
              "\n",
              "    .dataframe tbody tr th {\n",
              "        vertical-align: top;\n",
              "    }\n",
              "\n",
              "    .dataframe thead th {\n",
              "        text-align: right;\n",
              "    }\n",
              "</style>\n",
              "<table border=\"1\" class=\"dataframe\">\n",
              "  <thead>\n",
              "    <tr style=\"text-align: right;\">\n",
              "      <th></th>\n",
              "      <th>year</th>\n",
              "      <th>price</th>\n",
              "      <th>mileage</th>\n",
              "      <th>tax</th>\n",
              "      <th>mpg</th>\n",
              "      <th>engineSize</th>\n",
              "      <th>model_ A Class</th>\n",
              "      <th>model_ B Class</th>\n",
              "      <th>model_ C Class</th>\n",
              "      <th>model_ CL Class</th>\n",
              "      <th>model_ CLA Class</th>\n",
              "      <th>model_ CLC Class</th>\n",
              "      <th>model_ CLK</th>\n",
              "      <th>model_ CLS Class</th>\n",
              "      <th>model_ E Class</th>\n",
              "      <th>model_ G Class</th>\n",
              "      <th>model_ GL Class</th>\n",
              "      <th>model_ GLA Class</th>\n",
              "      <th>model_ GLB Class</th>\n",
              "      <th>model_ GLC Class</th>\n",
              "      <th>model_ GLE Class</th>\n",
              "      <th>model_ GLS Class</th>\n",
              "      <th>model_ M Class</th>\n",
              "      <th>model_ R Class</th>\n",
              "      <th>model_ S Class</th>\n",
              "      <th>model_ SL CLASS</th>\n",
              "      <th>model_ SLK</th>\n",
              "      <th>model_ V Class</th>\n",
              "      <th>model_ X-CLASS</th>\n",
              "      <th>model_180</th>\n",
              "      <th>model_200</th>\n",
              "      <th>model_220</th>\n",
              "      <th>model_230</th>\n",
              "      <th>transmission_Automatic</th>\n",
              "      <th>transmission_Manual</th>\n",
              "      <th>transmission_Other</th>\n",
              "      <th>transmission_Semi-Auto</th>\n",
              "      <th>fuelType_Diesel</th>\n",
              "      <th>fuelType_Hybrid</th>\n",
              "      <th>fuelType_Other</th>\n",
              "      <th>fuelType_Petrol</th>\n",
              "    </tr>\n",
              "  </thead>\n",
              "  <tbody>\n",
              "    <tr>\n",
              "      <th>0</th>\n",
              "      <td>2005</td>\n",
              "      <td>5200</td>\n",
              "      <td>63000</td>\n",
              "      <td>325</td>\n",
              "      <td>32.1</td>\n",
              "      <td>1.8</td>\n",
              "      <td>0</td>\n",
              "      <td>0</td>\n",
              "      <td>0</td>\n",
              "      <td>0</td>\n",
              "      <td>0</td>\n",
              "      <td>0</td>\n",
              "      <td>0</td>\n",
              "      <td>0</td>\n",
              "      <td>0</td>\n",
              "      <td>0</td>\n",
              "      <td>0</td>\n",
              "      <td>0</td>\n",
              "      <td>0</td>\n",
              "      <td>0</td>\n",
              "      <td>0</td>\n",
              "      <td>0</td>\n",
              "      <td>0</td>\n",
              "      <td>0</td>\n",
              "      <td>0</td>\n",
              "      <td>0</td>\n",
              "      <td>1</td>\n",
              "      <td>0</td>\n",
              "      <td>0</td>\n",
              "      <td>0</td>\n",
              "      <td>0</td>\n",
              "      <td>0</td>\n",
              "      <td>0</td>\n",
              "      <td>1</td>\n",
              "      <td>0</td>\n",
              "      <td>0</td>\n",
              "      <td>0</td>\n",
              "      <td>0</td>\n",
              "      <td>0</td>\n",
              "      <td>0</td>\n",
              "      <td>1</td>\n",
              "    </tr>\n",
              "    <tr>\n",
              "      <th>1</th>\n",
              "      <td>2017</td>\n",
              "      <td>34948</td>\n",
              "      <td>27000</td>\n",
              "      <td>20</td>\n",
              "      <td>61.4</td>\n",
              "      <td>2.1</td>\n",
              "      <td>0</td>\n",
              "      <td>0</td>\n",
              "      <td>0</td>\n",
              "      <td>0</td>\n",
              "      <td>0</td>\n",
              "      <td>0</td>\n",
              "      <td>0</td>\n",
              "      <td>0</td>\n",
              "      <td>0</td>\n",
              "      <td>0</td>\n",
              "      <td>0</td>\n",
              "      <td>0</td>\n",
              "      <td>0</td>\n",
              "      <td>0</td>\n",
              "      <td>0</td>\n",
              "      <td>0</td>\n",
              "      <td>0</td>\n",
              "      <td>0</td>\n",
              "      <td>1</td>\n",
              "      <td>0</td>\n",
              "      <td>0</td>\n",
              "      <td>0</td>\n",
              "      <td>0</td>\n",
              "      <td>0</td>\n",
              "      <td>0</td>\n",
              "      <td>0</td>\n",
              "      <td>0</td>\n",
              "      <td>1</td>\n",
              "      <td>0</td>\n",
              "      <td>0</td>\n",
              "      <td>0</td>\n",
              "      <td>0</td>\n",
              "      <td>1</td>\n",
              "      <td>0</td>\n",
              "      <td>0</td>\n",
              "    </tr>\n",
              "    <tr>\n",
              "      <th>2</th>\n",
              "      <td>2016</td>\n",
              "      <td>49948</td>\n",
              "      <td>6200</td>\n",
              "      <td>555</td>\n",
              "      <td>28.0</td>\n",
              "      <td>5.5</td>\n",
              "      <td>0</td>\n",
              "      <td>0</td>\n",
              "      <td>0</td>\n",
              "      <td>0</td>\n",
              "      <td>0</td>\n",
              "      <td>0</td>\n",
              "      <td>0</td>\n",
              "      <td>0</td>\n",
              "      <td>0</td>\n",
              "      <td>0</td>\n",
              "      <td>0</td>\n",
              "      <td>0</td>\n",
              "      <td>0</td>\n",
              "      <td>0</td>\n",
              "      <td>0</td>\n",
              "      <td>0</td>\n",
              "      <td>0</td>\n",
              "      <td>0</td>\n",
              "      <td>0</td>\n",
              "      <td>1</td>\n",
              "      <td>0</td>\n",
              "      <td>0</td>\n",
              "      <td>0</td>\n",
              "      <td>0</td>\n",
              "      <td>0</td>\n",
              "      <td>0</td>\n",
              "      <td>0</td>\n",
              "      <td>1</td>\n",
              "      <td>0</td>\n",
              "      <td>0</td>\n",
              "      <td>0</td>\n",
              "      <td>0</td>\n",
              "      <td>0</td>\n",
              "      <td>0</td>\n",
              "      <td>1</td>\n",
              "    </tr>\n",
              "    <tr>\n",
              "      <th>3</th>\n",
              "      <td>2016</td>\n",
              "      <td>61948</td>\n",
              "      <td>16000</td>\n",
              "      <td>325</td>\n",
              "      <td>30.4</td>\n",
              "      <td>4.0</td>\n",
              "      <td>0</td>\n",
              "      <td>0</td>\n",
              "      <td>0</td>\n",
              "      <td>0</td>\n",
              "      <td>0</td>\n",
              "      <td>0</td>\n",
              "      <td>0</td>\n",
              "      <td>0</td>\n",
              "      <td>0</td>\n",
              "      <td>1</td>\n",
              "      <td>0</td>\n",
              "      <td>0</td>\n",
              "      <td>0</td>\n",
              "      <td>0</td>\n",
              "      <td>0</td>\n",
              "      <td>0</td>\n",
              "      <td>0</td>\n",
              "      <td>0</td>\n",
              "      <td>0</td>\n",
              "      <td>0</td>\n",
              "      <td>0</td>\n",
              "      <td>0</td>\n",
              "      <td>0</td>\n",
              "      <td>0</td>\n",
              "      <td>0</td>\n",
              "      <td>0</td>\n",
              "      <td>0</td>\n",
              "      <td>1</td>\n",
              "      <td>0</td>\n",
              "      <td>0</td>\n",
              "      <td>0</td>\n",
              "      <td>0</td>\n",
              "      <td>0</td>\n",
              "      <td>0</td>\n",
              "      <td>1</td>\n",
              "    </tr>\n",
              "    <tr>\n",
              "      <th>4</th>\n",
              "      <td>2016</td>\n",
              "      <td>73948</td>\n",
              "      <td>4000</td>\n",
              "      <td>325</td>\n",
              "      <td>30.1</td>\n",
              "      <td>4.0</td>\n",
              "      <td>0</td>\n",
              "      <td>0</td>\n",
              "      <td>0</td>\n",
              "      <td>0</td>\n",
              "      <td>0</td>\n",
              "      <td>0</td>\n",
              "      <td>0</td>\n",
              "      <td>0</td>\n",
              "      <td>0</td>\n",
              "      <td>1</td>\n",
              "      <td>0</td>\n",
              "      <td>0</td>\n",
              "      <td>0</td>\n",
              "      <td>0</td>\n",
              "      <td>0</td>\n",
              "      <td>0</td>\n",
              "      <td>0</td>\n",
              "      <td>0</td>\n",
              "      <td>0</td>\n",
              "      <td>0</td>\n",
              "      <td>0</td>\n",
              "      <td>0</td>\n",
              "      <td>0</td>\n",
              "      <td>0</td>\n",
              "      <td>0</td>\n",
              "      <td>0</td>\n",
              "      <td>0</td>\n",
              "      <td>1</td>\n",
              "      <td>0</td>\n",
              "      <td>0</td>\n",
              "      <td>0</td>\n",
              "      <td>0</td>\n",
              "      <td>0</td>\n",
              "      <td>0</td>\n",
              "      <td>1</td>\n",
              "    </tr>\n",
              "  </tbody>\n",
              "</table>\n",
              "</div>\n",
              "      <button class=\"colab-df-convert\" onclick=\"convertToInteractive('df-d5644d8f-354d-49db-9b5b-a73f561ac402')\"\n",
              "              title=\"Convert this dataframe to an interactive table.\"\n",
              "              style=\"display:none;\">\n",
              "        \n",
              "  <svg xmlns=\"http://www.w3.org/2000/svg\" height=\"24px\"viewBox=\"0 0 24 24\"\n",
              "       width=\"24px\">\n",
              "    <path d=\"M0 0h24v24H0V0z\" fill=\"none\"/>\n",
              "    <path d=\"M18.56 5.44l.94 2.06.94-2.06 2.06-.94-2.06-.94-.94-2.06-.94 2.06-2.06.94zm-11 1L8.5 8.5l.94-2.06 2.06-.94-2.06-.94L8.5 2.5l-.94 2.06-2.06.94zm10 10l.94 2.06.94-2.06 2.06-.94-2.06-.94-.94-2.06-.94 2.06-2.06.94z\"/><path d=\"M17.41 7.96l-1.37-1.37c-.4-.4-.92-.59-1.43-.59-.52 0-1.04.2-1.43.59L10.3 9.45l-7.72 7.72c-.78.78-.78 2.05 0 2.83L4 21.41c.39.39.9.59 1.41.59.51 0 1.02-.2 1.41-.59l7.78-7.78 2.81-2.81c.8-.78.8-2.07 0-2.86zM5.41 20L4 18.59l7.72-7.72 1.47 1.35L5.41 20z\"/>\n",
              "  </svg>\n",
              "      </button>\n",
              "      \n",
              "  <style>\n",
              "    .colab-df-container {\n",
              "      display:flex;\n",
              "      flex-wrap:wrap;\n",
              "      gap: 12px;\n",
              "    }\n",
              "\n",
              "    .colab-df-convert {\n",
              "      background-color: #E8F0FE;\n",
              "      border: none;\n",
              "      border-radius: 50%;\n",
              "      cursor: pointer;\n",
              "      display: none;\n",
              "      fill: #1967D2;\n",
              "      height: 32px;\n",
              "      padding: 0 0 0 0;\n",
              "      width: 32px;\n",
              "    }\n",
              "\n",
              "    .colab-df-convert:hover {\n",
              "      background-color: #E2EBFA;\n",
              "      box-shadow: 0px 1px 2px rgba(60, 64, 67, 0.3), 0px 1px 3px 1px rgba(60, 64, 67, 0.15);\n",
              "      fill: #174EA6;\n",
              "    }\n",
              "\n",
              "    [theme=dark] .colab-df-convert {\n",
              "      background-color: #3B4455;\n",
              "      fill: #D2E3FC;\n",
              "    }\n",
              "\n",
              "    [theme=dark] .colab-df-convert:hover {\n",
              "      background-color: #434B5C;\n",
              "      box-shadow: 0px 1px 3px 1px rgba(0, 0, 0, 0.15);\n",
              "      filter: drop-shadow(0px 1px 2px rgba(0, 0, 0, 0.3));\n",
              "      fill: #FFFFFF;\n",
              "    }\n",
              "  </style>\n",
              "\n",
              "      <script>\n",
              "        const buttonEl =\n",
              "          document.querySelector('#df-d5644d8f-354d-49db-9b5b-a73f561ac402 button.colab-df-convert');\n",
              "        buttonEl.style.display =\n",
              "          google.colab.kernel.accessAllowed ? 'block' : 'none';\n",
              "\n",
              "        async function convertToInteractive(key) {\n",
              "          const element = document.querySelector('#df-d5644d8f-354d-49db-9b5b-a73f561ac402');\n",
              "          const dataTable =\n",
              "            await google.colab.kernel.invokeFunction('convertToInteractive',\n",
              "                                                     [key], {});\n",
              "          if (!dataTable) return;\n",
              "\n",
              "          const docLinkHtml = 'Like what you see? Visit the ' +\n",
              "            '<a target=\"_blank\" href=https://colab.research.google.com/notebooks/data_table.ipynb>data table notebook</a>'\n",
              "            + ' to learn more about interactive tables.';\n",
              "          element.innerHTML = '';\n",
              "          dataTable['output_type'] = 'display_data';\n",
              "          await google.colab.output.renderOutput(dataTable, element);\n",
              "          const docLink = document.createElement('div');\n",
              "          docLink.innerHTML = docLinkHtml;\n",
              "          element.appendChild(docLink);\n",
              "        }\n",
              "      </script>\n",
              "    </div>\n",
              "  </div>\n",
              "  "
            ],
            "text/plain": [
              "   year  price  mileage  ...  fuelType_Hybrid  fuelType_Other  fuelType_Petrol\n",
              "0  2005   5200    63000  ...                0               0                1\n",
              "1  2017  34948    27000  ...                1               0                0\n",
              "2  2016  49948     6200  ...                0               0                1\n",
              "3  2016  61948    16000  ...                0               0                1\n",
              "4  2016  73948     4000  ...                0               0                1\n",
              "\n",
              "[5 rows x 41 columns]"
            ]
          },
          "metadata": {},
          "execution_count": 28
        }
      ]
    },
    {
      "cell_type": "markdown",
      "metadata": {
        "id": "k5BCJs1TXsKJ"
      },
      "source": [
        "Разделим данные на обучающую и тестовую выборки."
      ],
      "id": "k5BCJs1TXsKJ"
    },
    {
      "cell_type": "code",
      "metadata": {
        "id": "O3WK2VKVXsKJ"
      },
      "source": [
        "X = df_expanded.drop(columns=['price'])\n",
        "y = df_expanded['price']"
      ],
      "id": "O3WK2VKVXsKJ",
      "execution_count": 29,
      "outputs": []
    },
    {
      "cell_type": "code",
      "metadata": {
        "id": "4kfYT_9JXsKJ"
      },
      "source": [
        "X_train, X_test, y_train, y_test = train_test_split(X, y, test_size=0.2, random_state=42)"
      ],
      "id": "4kfYT_9JXsKJ",
      "execution_count": 30,
      "outputs": []
    },
    {
      "cell_type": "markdown",
      "metadata": {
        "id": "e4aPPM6kXsKK"
      },
      "source": [
        "Нормализуем данные."
      ],
      "id": "e4aPPM6kXsKK"
    },
    {
      "cell_type": "code",
      "metadata": {
        "id": "ng6lyohbXsKK"
      },
      "source": [
        "pca = MinMaxScaler()\n",
        "pca.fit(X_train)\n",
        "\n",
        "X_train = pca.transform(X_train)\n",
        "X_train = pd.DataFrame(X_train, columns=X.columns)\n",
        "\n",
        "X_test = pca.transform(X_test)\n",
        "X_test = pd.DataFrame(X_test, columns=X.columns)"
      ],
      "id": "ng6lyohbXsKK",
      "execution_count": 31,
      "outputs": []
    },
    {
      "cell_type": "code",
      "metadata": {
        "colab": {
          "base_uri": "https://localhost:8080/"
        },
        "id": "S2Y99kbBXsKK",
        "outputId": "31135f36-66f1-4137-c06b-ec4cae2585e2"
      },
      "source": [
        "print(X_train.shape)\n",
        "print(X_test.shape)\n",
        "print(y_train.shape)\n",
        "print(y_test.shape)"
      ],
      "id": "S2Y99kbBXsKK",
      "execution_count": 32,
      "outputs": [
        {
          "output_type": "stream",
          "name": "stdout",
          "text": [
            "(10495, 40)\n",
            "(2624, 40)\n",
            "(10495,)\n",
            "(2624,)\n"
          ]
        }
      ]
    },
    {
      "cell_type": "code",
      "metadata": {
        "id": "SZR1bIjHXsKK"
      },
      "source": [
        "# 3. Реализовать метрику качества \\\\ аргументировать выбор метрики качества "
      ],
      "id": "SZR1bIjHXsKK",
      "execution_count": 33,
      "outputs": []
    },
    {
      "cell_type": "markdown",
      "metadata": {
        "id": "TlPm82IbXsKK"
      },
      "source": [
        "Метрика R2 принимает значения от 0 до 1, чем ближе значение коэффициента к 1, тем сильнее модель соответствует данным. Эта метрика наиболее наглядна. Кроме того, используется в реализации линейной регрессии в sklearn."
      ],
      "id": "TlPm82IbXsKK"
    },
    {
      "cell_type": "code",
      "metadata": {
        "id": "2S0hg3ZaXsKK"
      },
      "source": [
        "def R2(y_actual, y_pred):\n",
        "    ssr = np.sum((y_pred - y_actual)**2)\n",
        "    sst = np.sum((y_actual - np.mean(y_actual))**2)\n",
        "    r2_score = 1 - (ssr/sst)\n",
        "    return r2_score"
      ],
      "id": "2S0hg3ZaXsKK",
      "execution_count": 34,
      "outputs": []
    },
    {
      "cell_type": "code",
      "source": [
        "def MSE(y_actual, y_pred):\n",
        "  n = y_actual.shape[0]\n",
        "  diff = y_actual - y_pred\n",
        "  return np.sum(diff ** 2) / n"
      ],
      "metadata": {
        "id": "lGi8c2WTErko"
      },
      "id": "lGi8c2WTErko",
      "execution_count": 35,
      "outputs": []
    },
    {
      "cell_type": "code",
      "metadata": {
        "id": "FFEXSvTzXsKL"
      },
      "source": [
        "# 4. Реализовать и обучить логистическую регрессию или линейную регрессию \\\\ !!!не разрешается использовать sklearn!!!\n",
        "\n",
        "class myLinearRegression:\n",
        "  def __init__(self, lr=0.05, max_iter = 10000):\n",
        "    self.max_iter = max_iter\n",
        "    self.lr = lr\n",
        "    self.w = np.array([])\n",
        "    self.firstRun = True\n",
        "\n",
        "  def fit(self, X, y):\n",
        "    X = X.to_numpy()\n",
        "    y = y.to_numpy()\n",
        "    # Добавим единицу вначале\n",
        "    X = np.hstack((np.full((X.shape[0], 1), 1),X))\n",
        "    \n",
        "    # Если первый запуск, инициализируем веса случайным образом\n",
        "    if self.firstRun:\n",
        "      self.w = np.random.rand(X.shape[1])\n",
        "      self.firstRun = False;\n",
        "    m = X.shape[0]\n",
        "    \n",
        "    # Градиентный спуск\n",
        "    for i in range(self.max_iter):\n",
        "      y_pred = np.dot(X, self.w)\n",
        "      diff = y_pred - y\n",
        "      grad = 2 / m * np.dot(X.T, diff)\n",
        "      self.w -= self.lr * grad\n",
        "    return self\n",
        "\n",
        "  def predict(self, X):\n",
        "    X = X.to_numpy()\n",
        "    X = np.hstack((np.full((X.shape[0], 1), 1),X))\n",
        "    return np.dot(X, self.w)\n",
        "  \n",
        "  def score(self, X, y):\n",
        "    y = y.to_numpy()\n",
        "    y_pred = self.predict(X)\n",
        "    return R2(y, y_pred)\n"
      ],
      "id": "FFEXSvTzXsKL",
      "execution_count": 36,
      "outputs": []
    },
    {
      "cell_type": "code",
      "source": [
        "# 4*. Добавить регуляризацию \\\\ не разрешается использовать sklearn\n",
        "class myRidge:\n",
        "  def __init__(self, lr=0.05, alpha=1., max_iter = 10000):\n",
        "    self.max_iter = max_iter\n",
        "    self.lr = lr\n",
        "    self.alpha = alpha\n",
        "    self.w = np.array([])\n",
        "    self.error = []\n",
        "    self.accuracy = []\n",
        "    self.firstRun = True\n",
        "\n",
        "\n",
        "  def fit(self, X, y):\n",
        "    X = X.to_numpy()\n",
        "    y = y.to_numpy()\n",
        "    # Добавим единицу вначале\n",
        "    X = np.hstack((np.full((X.shape[0], 1), 1),X))\n",
        "\n",
        "    # Если первый запуск, инициализируем веса случайным образом\n",
        "    if self.firstRun:\n",
        "      self.w = np.random.rand(X.shape[1])\n",
        "      self.firstRun = False\n",
        "    m = X.shape[0]\n",
        "\n",
        "    # Градиентный спуск с регуляризацией\n",
        "    for i in range(self.max_iter):\n",
        "      y_pred = np.dot(X, self.w)\n",
        "      diff = y_pred - y\n",
        "      grad = 2 / m * (np.dot(X.T, diff) + self.alpha  * self.w)\n",
        "      self.w -= self.lr * grad\n",
        "    return self\n",
        "\n",
        "  def predict(self, X):\n",
        "    X = X.to_numpy()\n",
        "    X = np.hstack((np.full((X.shape[0], 1), 1),X))\n",
        "    return np.dot(X, self.w)\n",
        "  def score(self, X, y):\n",
        "    y = y.to_numpy()\n",
        "    y_pred = self.predict(X)\n",
        "    return R2(y, y_pred)"
      ],
      "metadata": {
        "id": "raAw8pgyX-Rb"
      },
      "id": "raAw8pgyX-Rb",
      "execution_count": 37,
      "outputs": []
    },
    {
      "cell_type": "code",
      "metadata": {
        "id": "bjbUPycqXsKL"
      },
      "source": [
        "# 5. Оценить качество модели на обучающей и тестовой выборках \\\\ не разрешается использовать sklearn\n"
      ],
      "id": "bjbUPycqXsKL",
      "execution_count": 38,
      "outputs": []
    },
    {
      "cell_type": "markdown",
      "source": [
        "Оценка для линейной регрессии"
      ],
      "metadata": {
        "id": "Wom_hln9ZPs4"
      },
      "id": "Wom_hln9ZPs4"
    },
    {
      "cell_type": "code",
      "source": [
        "myLR = myLinearRegression(max_iter=100)\n"
      ],
      "metadata": {
        "id": "VdVc5hLLZp0c"
      },
      "id": "VdVc5hLLZp0c",
      "execution_count": 39,
      "outputs": []
    },
    {
      "cell_type": "markdown",
      "source": [
        "Одна эпоха - 100 итераций, будем обучать 100 эпох\\\n",
        "Ошибка - RMSE\\\n",
        "Точность - R2"
      ],
      "metadata": {
        "id": "KjeZX022GbmD"
      },
      "id": "KjeZX022GbmD"
    },
    {
      "cell_type": "code",
      "source": [
        "my_train_error = []\n",
        "my_train_accuracy = []\n",
        "my_test_error = []\n",
        "my_test_accuracy = []\n",
        "for _ in range(101):\n",
        "  myLR.fit(X_train, y_train)\n",
        "  y_train_pred = myLR.predict(X_train)\n",
        "  my_train_error.append(np.sqrt(MSE(y_train, y_train_pred)))\n",
        "  my_train_accuracy.append(R2(y_train, y_train_pred))\n",
        "\n",
        "  y_test_pred = myLR.predict(X_test)\n",
        "  my_test_error.append(np.sqrt(MSE(y_test, y_test_pred)))\n",
        "  my_test_accuracy.append(R2(y_test, y_test_pred))\n",
        "  \n"
      ],
      "metadata": {
        "id": "EJpov-F8ClbQ"
      },
      "id": "EJpov-F8ClbQ",
      "execution_count": 40,
      "outputs": []
    },
    {
      "cell_type": "code",
      "source": [
        "train_score = myLR.score(X_train, y_train)\n",
        "test_score = myLR.score(X_test, y_test)\n",
        "print(\"train score: {}\\ntest score: {}\".format(train_score, test_score))"
      ],
      "metadata": {
        "colab": {
          "base_uri": "https://localhost:8080/"
        },
        "id": "Efa_zlyQZN-6",
        "outputId": "4ef09333-800a-4259-e0e6-989d3d8e97c6"
      },
      "id": "Efa_zlyQZN-6",
      "execution_count": 41,
      "outputs": [
        {
          "output_type": "stream",
          "name": "stdout",
          "text": [
            "train score: 0.7595487114248423\n",
            "test score: 0.7348648466161345\n"
          ]
        }
      ]
    },
    {
      "cell_type": "markdown",
      "source": [
        "Оценка для линейное регрессии с регуляризацией"
      ],
      "metadata": {
        "id": "OsQH-3mfZh8U"
      },
      "id": "OsQH-3mfZh8U"
    },
    {
      "cell_type": "code",
      "metadata": {
        "id": "xOKPI3GYhyQY",
        "colab": {
          "base_uri": "https://localhost:8080/"
        },
        "outputId": "775bdcf0-8ed7-4b5d-d191-112fafe35c2e"
      },
      "source": [
        "myRg = myRidge(alpha=2, max_iter=10000)\n",
        "myRg.fit(X_train, y_train)\n",
        "train_score = myRg.score(X_train, y_train)\n",
        "test_score = myRg.score(X_test, y_test)\n",
        "print(\"train score: {}\\ntest score: {}\".format(train_score, test_score))"
      ],
      "id": "xOKPI3GYhyQY",
      "execution_count": 42,
      "outputs": [
        {
          "output_type": "stream",
          "name": "stdout",
          "text": [
            "train score: 0.7565833036353491\n",
            "test score: 0.7307528424809993\n"
          ]
        }
      ]
    },
    {
      "cell_type": "code",
      "metadata": {
        "id": "ECP_ATJuXsKL"
      },
      "source": [
        "# 5*. Сделать график ошибки модели на обучающей и тестовой выборках \n",
        "# 5*. Сделать график точности модели на обучающей и тестовой выборках\n"
      ],
      "id": "ECP_ATJuXsKL",
      "execution_count": 43,
      "outputs": []
    },
    {
      "cell_type": "code",
      "metadata": {
        "colab": {
          "base_uri": "https://localhost:8080/",
          "height": 443
        },
        "id": "eQIYXdTii430",
        "outputId": "39affee9-2d84-43e0-acf1-6e4a8150c932"
      },
      "source": [
        "fig, (ax1, ax2) = plt.subplots(1, 2)\n",
        "ax1.set_title(\"error RMSE\")\n",
        "ax1.plot(my_train_error, label='train')\n",
        "ax1.plot(my_test_error, label='test')\n",
        "ax1.legend()\n",
        "ax2.set_title(\"accuracy R2\")\n",
        "ax2.plot(my_train_accuracy, label='train')\n",
        "ax2.plot(my_test_accuracy, label='test')\n",
        "ax2.legend()\n",
        "fig.show()"
      ],
      "id": "eQIYXdTii430",
      "execution_count": 44,
      "outputs": [
        {
          "output_type": "display_data",
          "data": {
            "image/png": "[encoded data removed]",
            "text/plain": [
              "<Figure size 1152x576 with 2 Axes>"
            ]
          },
          "metadata": {}
        }
      ]
    },
    {
      "cell_type": "code",
      "metadata": {
        "id": "YrYIbI7ZXsKL"
      },
      "source": [
        "# 6. Обучить логистическую регрессию или линейную регрессию из sklearn, оценить качество модели на обучающей и тестовой выборках и сравнить со своей моделью"
      ],
      "id": "YrYIbI7ZXsKL",
      "execution_count": 45,
      "outputs": []
    },
    {
      "cell_type": "code",
      "metadata": {
        "id": "bqutSAuNjwdY"
      },
      "source": [
        "from sklearn.linear_model import LinearRegression\n",
        "from sklearn.linear_model import Ridge"
      ],
      "id": "bqutSAuNjwdY",
      "execution_count": 46,
      "outputs": []
    },
    {
      "cell_type": "code",
      "source": [
        "R = Ridge(alpha=5)\n"
      ],
      "metadata": {
        "id": "7XSmoHJPBmNE"
      },
      "id": "7XSmoHJPBmNE",
      "execution_count": 47,
      "outputs": []
    },
    {
      "cell_type": "code",
      "source": [
        "R.fit(X_train, y_train)"
      ],
      "metadata": {
        "colab": {
          "base_uri": "https://localhost:8080/"
        },
        "id": "Qurxjjs8VsEf",
        "outputId": "9c2829fa-4354-4236-dafe-cf88bdec65d8"
      },
      "id": "Qurxjjs8VsEf",
      "execution_count": 48,
      "outputs": [
        {
          "output_type": "execute_result",
          "data": {
            "text/plain": [
              "Ridge(alpha=5)"
            ]
          },
          "metadata": {},
          "execution_count": 48
        }
      ]
    },
    {
      "cell_type": "code",
      "source": [
        "train_score_R = R.score(X_train, y_train)\n",
        "test_score_R = R.score(X_test, y_test)\n",
        "print(\"train score: {}\\ntest score: {}\".format(train_score_R, test_score_R))"
      ],
      "metadata": {
        "id": "HkKTthO8B3VY",
        "colab": {
          "base_uri": "https://localhost:8080/"
        },
        "outputId": "d3ff3a83-fe8d-49af-e05a-9d6574c0100f"
      },
      "id": "HkKTthO8B3VY",
      "execution_count": 49,
      "outputs": [
        {
          "output_type": "stream",
          "name": "stdout",
          "text": [
            "train score: 0.7637978320800007\n",
            "test score: 0.73591999297032\n"
          ]
        }
      ]
    },
    {
      "cell_type": "code",
      "source": [
        ""
      ],
      "metadata": {
        "id": "5XLUyiYJB8xD"
      },
      "id": "5XLUyiYJB8xD",
      "execution_count": 49,
      "outputs": []
    },
    {
      "cell_type": "code",
      "metadata": {
        "id": "IKnJCcjRj7vJ"
      },
      "source": [
        "LR = LinearRegression()"
      ],
      "id": "IKnJCcjRj7vJ",
      "execution_count": 50,
      "outputs": []
    },
    {
      "cell_type": "code",
      "source": [
        "LR.fit(X_train, y_train)"
      ],
      "metadata": {
        "colab": {
          "base_uri": "https://localhost:8080/"
        },
        "id": "ojSgAVA2YOMs",
        "outputId": "783c5a48-b777-498c-9559-a3b681767cf9"
      },
      "id": "ojSgAVA2YOMs",
      "execution_count": 51,
      "outputs": [
        {
          "output_type": "execute_result",
          "data": {
            "text/plain": [
              "LinearRegression()"
            ]
          },
          "metadata": {},
          "execution_count": 51
        }
      ]
    },
    {
      "cell_type": "code",
      "source": [
        "train_score = LR.score(X_train, y_train)\n",
        "test_score = LR.score(X_test, y_test)\n",
        "print(\"train score: {}\\ntest score: {}\".format(train_score, test_score))"
      ],
      "metadata": {
        "colab": {
          "base_uri": "https://localhost:8080/"
        },
        "id": "CccmTLmMYRV-",
        "outputId": "1a41224e-c90e-4d7a-dd92-f606ea76fb40"
      },
      "id": "CccmTLmMYRV-",
      "execution_count": 52,
      "outputs": [
        {
          "output_type": "stream",
          "name": "stdout",
          "text": [
            "train score: 0.7745458192171027\n",
            "test score: 0.7437323895873129\n"
          ]
        }
      ]
    }
  ]
}